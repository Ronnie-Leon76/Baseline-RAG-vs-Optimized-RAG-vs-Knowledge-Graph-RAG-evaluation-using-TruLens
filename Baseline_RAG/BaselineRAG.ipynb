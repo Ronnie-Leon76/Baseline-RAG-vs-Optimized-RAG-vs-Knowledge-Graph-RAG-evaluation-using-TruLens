{
 "cells": [
  {
   "cell_type": "markdown",
   "metadata": {},
   "source": [
    "### Import the necessary libraries"
   ]
  },
  {
   "cell_type": "code",
   "execution_count": 16,
   "metadata": {},
   "outputs": [],
   "source": [
    "import os, sys\n",
    "import warnings\n",
    "import pandas as pd\n",
    "import numpy as np\n",
    "import pickle\n",
    "import openai\n",
    "from tqdm.auto import tqdm\n",
    "from langchain.schema.document import Document\n",
    "from langchain.chat_models import ChatOpenAI\n",
    "from langchain_openai import OpenAIEmbeddings\n",
    "from langchain_community.vectorstores import FAISS\n",
    "from Ingestion.ingest import extract_text_and_metadata_from_pdf_document, extract_text_and_metadata_from_docx_document"
   ]
  },
  {
   "cell_type": "code",
   "execution_count": 3,
   "metadata": {},
   "outputs": [],
   "source": [
    "warnings.filterwarnings(\"ignore\")"
   ]
  },
  {
   "cell_type": "code",
   "execution_count": 4,
   "metadata": {},
   "outputs": [],
   "source": [
    "sys.path.append('../..')\n",
    "from dotenv import load_dotenv, find_dotenv\n",
    "_ = load_dotenv(find_dotenv())\n",
    "\n",
    "openai.api_key = os.environ['OPENAI_API_KEY']"
   ]
  },
  {
   "cell_type": "markdown",
   "metadata": {},
   "source": [
    "### Load OpenAI's text-embedding-3-large embeddings"
   ]
  },
  {
   "cell_type": "code",
   "execution_count": 6,
   "metadata": {},
   "outputs": [],
   "source": [
    "embeddings = OpenAIEmbeddings(model=\"text-embedding-3-large\")"
   ]
  },
  {
   "cell_type": "code",
   "execution_count": 8,
   "metadata": {},
   "outputs": [],
   "source": [
    "DB_FAISS_PATH = 'vectorstore/db_faiss'\n",
    "\n",
    "def create_vector_db(documents, embeddings):\n",
    "    # Create a vector store\n",
    "    db = FAISS.from_documents(documents, embeddings)\n",
    "    db.save_local(DB_FAISS_PATH)"
   ]
  },
  {
   "cell_type": "code",
   "execution_count": 9,
   "metadata": {},
   "outputs": [],
   "source": [
    "dir_path = \"../Test_Documents\"\n",
    "\n",
    "if not os.path.exists(dir_path):\n",
    "    print(f\"Test Documents Directory path {dir_path} does not exist\")\n",
    "    sys.exit(1)"
   ]
  },
  {
   "cell_type": "code",
   "execution_count": 18,
   "metadata": {},
   "outputs": [
    {
     "data": {
      "application/vnd.jupyter.widget-view+json": {
       "model_id": "33fbd9ac5a874caea237918b6a9b7ecc",
       "version_major": 2,
       "version_minor": 0
      },
      "text/plain": [
       "Processing PDF files:   0%|          | 0/4 [00:00<?, ?it/s]"
      ]
     },
     "metadata": {},
     "output_type": "display_data"
    },
    {
     "name": "stderr",
     "output_type": "stream",
     "text": [
      "2024-06-17 15:50:56.275868: E tensorflow/compiler/xla/stream_executor/cuda/cuda_dnn.cc:9342] Unable to register cuDNN factory: Attempting to register factory for plugin cuDNN when one has already been registered\n",
      "2024-06-17 15:50:56.275933: E tensorflow/compiler/xla/stream_executor/cuda/cuda_fft.cc:609] Unable to register cuFFT factory: Attempting to register factory for plugin cuFFT when one has already been registered\n",
      "2024-06-17 15:50:56.279081: E tensorflow/compiler/xla/stream_executor/cuda/cuda_blas.cc:1518] Unable to register cuBLAS factory: Attempting to register factory for plugin cuBLAS when one has already been registered\n",
      "2024-06-17 15:50:56.575721: I tensorflow/core/platform/cpu_feature_guard.cc:182] This TensorFlow binary is optimized to use available CPU instructions in performance-critical operations.\n",
      "To enable the following instructions: AVX2 FMA, in other operations, rebuild TensorFlow with the appropriate compiler flags.\n",
      "2024-06-17 15:50:59.881155: W tensorflow/compiler/tf2tensorrt/utils/py_utils.cc:38] TF-TRT Warning: Could not find TensorRT\n",
      "Some weights of the model checkpoint at microsoft/table-transformer-structure-recognition were not used when initializing TableTransformerForObjectDetection: ['model.backbone.conv_encoder.model.layer2.0.downsample.1.num_batches_tracked', 'model.backbone.conv_encoder.model.layer3.0.downsample.1.num_batches_tracked', 'model.backbone.conv_encoder.model.layer4.0.downsample.1.num_batches_tracked']\n",
      "- This IS expected if you are initializing TableTransformerForObjectDetection from the checkpoint of a model trained on another task or with another architecture (e.g. initializing a BertForSequenceClassification model from a BertForPreTraining model).\n",
      "- This IS NOT expected if you are initializing TableTransformerForObjectDetection from the checkpoint of a model that you expect to be exactly identical (initializing a BertForSequenceClassification model from a BertForSequenceClassification model).\n"
     ]
    },
    {
     "name": "stdout",
     "output_type": "stream",
     "text": [
      "Extracted text and metadata from 2_SalesTaxAct2018_Malaysia.pdf\n"
     ]
    },
    {
     "data": {
      "application/vnd.jupyter.widget-view+json": {
       "model_id": "badae9883a6340b98b4533c6ef32e622",
       "version_major": 2,
       "version_minor": 0
      },
      "text/plain": [
       "Processing rows:   0%|          | 0/55 [00:00<?, ?it/s]"
      ]
     },
     "metadata": {},
     "output_type": "display_data"
    },
    {
     "name": "stdout",
     "output_type": "stream",
     "text": [
      "Extracted text and metadata from 3_Canada_Cybersec_Strategy.pdf\n"
     ]
    },
    {
     "data": {
      "application/vnd.jupyter.widget-view+json": {
       "model_id": "f69b5e567fee47e0a9dce639bd328348",
       "version_major": 2,
       "version_minor": 0
      },
      "text/plain": [
       "Processing rows:   0%|          | 0/22 [00:00<?, ?it/s]"
      ]
     },
     "metadata": {},
     "output_type": "display_data"
    },
    {
     "name": "stdout",
     "output_type": "stream",
     "text": [
      "Extracted text and metadata from 1_WHO_FCTC.pdf\n"
     ]
    },
    {
     "data": {
      "application/vnd.jupyter.widget-view+json": {
       "model_id": "3b169b8717624a0a8932565791c6605a",
       "version_major": 2,
       "version_minor": 0
      },
      "text/plain": [
       "Processing rows:   0%|          | 0/37 [00:00<?, ?it/s]"
      ]
     },
     "metadata": {},
     "output_type": "display_data"
    },
    {
     "name": "stdout",
     "output_type": "stream",
     "text": [
      "Extracted text and metadata from 5_CyberPeace_Report.pdf\n"
     ]
    },
    {
     "data": {
      "application/vnd.jupyter.widget-view+json": {
       "model_id": "a24553e3efb84209b7f0ba24f91e2cf1",
       "version_major": 2,
       "version_minor": 0
      },
      "text/plain": [
       "Processing rows:   0%|          | 0/39 [00:00<?, ?it/s]"
      ]
     },
     "metadata": {},
     "output_type": "display_data"
    },
    {
     "data": {
      "application/vnd.jupyter.widget-view+json": {
       "model_id": "7e0750c0d64240cb85cda7e6c244f5e4",
       "version_major": 2,
       "version_minor": 0
      },
      "text/plain": [
       "Processing DOCX files:   0%|          | 0/1 [00:00<?, ?it/s]"
      ]
     },
     "metadata": {},
     "output_type": "display_data"
    },
    {
     "name": "stdout",
     "output_type": "stream",
     "text": [
      "Extracted text and metadata from 4_GovStack_Specs.docx\n"
     ]
    },
    {
     "data": {
      "application/vnd.jupyter.widget-view+json": {
       "model_id": "b73a5b0a942749e2975a22dcb43e6f3c",
       "version_major": 2,
       "version_minor": 0
      },
      "text/plain": [
       "Processing rows:   0%|          | 0/391 [00:00<?, ?it/s]"
      ]
     },
     "metadata": {},
     "output_type": "display_data"
    }
   ],
   "source": [
    "if not os.path.exists(DB_FAISS_PATH):\n",
    "    pdf_files = [f for f in os.listdir(dir_path) if f.endswith('.pdf')]\n",
    "    docx_files = [f for f in os.listdir(dir_path) if f.endswith('.docx')]\n",
    "\n",
    "    documents = []\n",
    "\n",
    "    for pdf_file in tqdm(pdf_files, desc='Processing PDF files'):\n",
    "        pdf_path = os.path.join(dir_path, pdf_file)\n",
    "        try:\n",
    "            df = extract_text_and_metadata_from_pdf_document(pdf_path)\n",
    "            print(f\"Extracted text and metadata from {pdf_file}\")\n",
    "            for index, row in tqdm(df.iterrows(), total=len(df), desc='Processing rows'):\n",
    "                file_name = row['Filename']\n",
    "                text = row['Text']\n",
    "                page_number = row['Page_Number']\n",
    "                document = Document(\n",
    "                    page_content=text,\n",
    "                    metadata = {\n",
    "                        'id': str(index) + '_' + file_name + '_' + str(page_number),\n",
    "                        'type': 'text',\n",
    "                        'filename': file_name,\n",
    "                        'page_number': page_number\n",
    "                    }\n",
    "                )\n",
    "                documents.append(document)\n",
    "        except Exception as e:\n",
    "            print(f\"Error processing {pdf_file}: {str(e)}\")\n",
    "\n",
    "    for docx_file in tqdm(docx_files, desc='Processing DOCX files'):\n",
    "        docx_path = os.path.join(dir_path, docx_file)\n",
    "        try:\n",
    "            df = extract_text_and_metadata_from_docx_document(docx_path)\n",
    "            print(f\"Extracted text and metadata from {docx_file}\")\n",
    "            for index, row in tqdm(df.iterrows(), total=len(df), desc='Processing rows'):\n",
    "                parent_id = row['Parent_Id']\n",
    "                file_name = row['Filename']\n",
    "                text = row['Text']\n",
    "                page_number = row['Page_Number']\n",
    "                document = Document(\n",
    "                    page_content=text,\n",
    "                    metadata = {\n",
    "                        'id': str(index) + '_' + str(parent_id) + '_' + file_name + '_' + str(page_number),\n",
    "                        'type': 'text',\n",
    "                        'filename': file_name,\n",
    "                        'page_number': page_number\n",
    "                    }\n",
    "                )\n",
    "                documents.append(document)\n",
    "        except Exception as e:\n",
    "            print(f\"Error processing {docx_file}: {str(e)}\")\n",
    "\n",
    "    create_vector_db(documents, embeddings)"
   ]
  },
  {
   "cell_type": "markdown",
   "metadata": {},
   "source": [
    "### Load the FAISS Vectore Store"
   ]
  },
  {
   "cell_type": "code",
   "execution_count": 19,
   "metadata": {},
   "outputs": [],
   "source": [
    "db = FAISS.load_local(DB_FAISS_PATH, embeddings, allow_dangerous_deserialization=True)\n",
    "faiss_retriever = db.as_retriever()"
   ]
  },
  {
   "cell_type": "markdown",
   "metadata": {},
   "source": [
    "### Evaluate the baseline retrieval system using TruLens"
   ]
  },
  {
   "cell_type": "markdown",
   "metadata": {},
   "source": [
    "#### Load TruLens Library Modules"
   ]
  },
  {
   "cell_type": "code",
   "execution_count": 10,
   "metadata": {},
   "outputs": [],
   "source": [
    "from trulens_eval import Tru\n",
    "from trulens_eval.tru_custom_app import instrument\n",
    "from trulens_eval import Feedback, Select\n",
    "from trulens_eval.feedback import Groundedness"
   ]
  },
  {
   "cell_type": "code",
   "execution_count": 11,
   "metadata": {},
   "outputs": [
    {
     "name": "stdout",
     "output_type": "stream",
     "text": [
      "🦑 Tru initialized with db url sqlite:///default.sqlite .\n",
      "🛑 Secret keys may be written to the database. See the `database_redact_keys` option of Tru` to prevent this.\n"
     ]
    }
   ],
   "source": [
    "tru = Tru()"
   ]
  },
  {
   "cell_type": "code",
   "execution_count": 12,
   "metadata": {},
   "outputs": [],
   "source": [
    "from openai import OpenAI\n",
    "oai_client = OpenAI()"
   ]
  },
  {
   "cell_type": "code",
   "execution_count": 13,
   "metadata": {},
   "outputs": [],
   "source": [
    "class BaseRetrieval:\n",
    "    @instrument\n",
    "    def retrieve(self, query: str) -> list:\n",
    "        \"\"\"\n",
    "        Retrieve relevant text from vector store.\n",
    "        \"\"\"\n",
    "        results = db.similarity_search(query, k=5)\n",
    "        print(results)\n",
    "        return results[0].page_content\n",
    "    \n",
    "    @instrument\n",
    "    def generate_completion(self, query: str, context_str: list) -> str:\n",
    "        \"\"\"\n",
    "        Generate answer from context.\n",
    "        \"\"\"\n",
    "        completion = oai_client.chat.completions.create(\n",
    "        model=\"gpt-4-turbo\",\n",
    "        temperature=0,\n",
    "        messages=\n",
    "        [\n",
    "            {\"role\": \"user\",\n",
    "            \"content\": \n",
    "            f\"We have provided context information below. \\n\"\n",
    "            f\"---------------------\\n\"\n",
    "            f\"{context_str}\"\n",
    "            f\"\\n---------------------\\n\"\n",
    "            f\"Given this information, please answer the question: {query}\"\n",
    "            }\n",
    "        ]\n",
    "        ).choices[0].message.content\n",
    "        return completion\n",
    "\n",
    "    @instrument\n",
    "    def query(self, query: str) -> str:\n",
    "        context_str = self.retrieve(query)\n",
    "        completion = self.generate_completion(query, context_str)\n",
    "        return completion"
   ]
  },
  {
   "cell_type": "code",
   "execution_count": 14,
   "metadata": {},
   "outputs": [],
   "source": [
    "rag = BaseRetrieval()"
   ]
  },
  {
   "cell_type": "code",
   "execution_count": 15,
   "metadata": {},
   "outputs": [
    {
     "name": "stderr",
     "output_type": "stream",
     "text": [
      "[nltk_data] Downloading package punkt to\n",
      "[nltk_data]     /home/adeptschneiderthedev/nltk_data...\n",
      "[nltk_data]   Package punkt is already up-to-date!\n"
     ]
    }
   ],
   "source": [
    "from trulens_eval.feedback.provider.openai import OpenAI\n",
    "\n",
    "provider = OpenAI()\n",
    "grounded = Groundedness(groundedness_provider=provider)"
   ]
  },
  {
   "cell_type": "code",
   "execution_count": 17,
   "metadata": {},
   "outputs": [
    {
     "name": "stdout",
     "output_type": "stream",
     "text": [
      "✅ In Groundedness, input source will be set to __record__.app.retrieve.rets.collect() .\n",
      "✅ In Groundedness, input statement will be set to __record__.main_output or `Select.RecordOutput` .\n",
      "✅ In Answer Relevance, input prompt will be set to __record__.app.retrieve.args.query .\n",
      "✅ In Answer Relevance, input response will be set to __record__.main_output or `Select.RecordOutput` .\n",
      "✅ In Context Relevance, input question will be set to __record__.app.retrieve.args.query .\n",
      "✅ In Context Relevance, input context will be set to __record__.app.retrieve.rets.collect() .\n"
     ]
    }
   ],
   "source": [
    "# Define a groundedness feedback function\n",
    "f_groundedness = (\n",
    "    Feedback(grounded.groundedness_measure_with_cot_reasons, name = \"Groundedness\")\n",
    "    .on(Select.RecordCalls.retrieve.rets.collect())\n",
    "    .on_output()\n",
    "    .aggregate(grounded.grounded_statements_aggregator)\n",
    ")\n",
    "\n",
    "# Question/answer relevance between overall question and answer.\n",
    "f_answer_relevance = (\n",
    "    Feedback(provider.relevance_with_cot_reasons, name = \"Answer Relevance\")\n",
    "    .on(Select.RecordCalls.retrieve.args.query)\n",
    "    .on_output()\n",
    ")\n",
    "\n",
    "# Question/statement relevance between question and each context chunk.\n",
    "f_context_relevance = (\n",
    "    Feedback(provider.context_relevance_with_cot_reasons, name = \"Context Relevance\")\n",
    "    .on(Select.RecordCalls.retrieve.args.query)\n",
    "    .on(Select.RecordCalls.retrieve.rets.collect())\n",
    "    .aggregate(np.mean)\n",
    ")"
   ]
  },
  {
   "cell_type": "markdown",
   "metadata": {},
   "source": [
    "### Construct the TruLens App"
   ]
  },
  {
   "cell_type": "code",
   "execution_count": 20,
   "metadata": {},
   "outputs": [],
   "source": [
    "from trulens_eval import TruCustomApp\n",
    "tru_rag = TruCustomApp(rag,\n",
    "    app_id = 'Base Retrieval Pipeline Testing v1',\n",
    "    feedbacks = [f_groundedness, f_answer_relevance, f_context_relevance])"
   ]
  },
  {
   "cell_type": "code",
   "execution_count": 21,
   "metadata": {},
   "outputs": [],
   "source": [
    "queries = [\n",
    "    \"Can the Conference of the Parties of the WHO FCTC assist countries in securing financial resources for implementation?\",\n",
    "    \"What should be the minimum size of health warnings and messages on tobacco products, and where should they be placed?\",\n",
    "    \"I opened a company to produce sensors in Kuala Lumpur. Based on the law in the file, how should I register for sales tax, and what are my obligations?\",\n",
    "    \"I opened a company to produce sensors in Kuala Lumpur. During product I paid sales tax on my inputs. Based on the law in the file, what are conditions to be eligible for a refund of the sales tax?\",\n",
    "    \"What specific indicators and targets are outlined in Canada's Cybersecurity Strategy?\",\n",
    "    \"What measures is the government of Canada taking in response to data security challenges posed by the emergence of novel technologies?\",\n",
    "    \"What are the API requirements that apply to the Consent building block?\",\n",
    "    \"What additional building blocks are essential to support the functionality of the consent building block?\",\n",
    "    \"What are the key findings of the CyberPeace Institute's analysis of cyber threats affecting NGOs in International Geneva?\",\n",
    "    \"What are the key lessons learnt from the case studies examined in the report?\"\n",
    "]"
   ]
  },
  {
   "cell_type": "code",
   "execution_count": 22,
   "metadata": {},
   "outputs": [],
   "source": [
    "def tru_rag_retrieval_pipeline(query):\n",
    "    with tru_rag as recording:\n",
    "        rag.query(query)\n",
    "    tru.get_leaderboard(app_ids=[\"Base Retrieval Pipeline Testing v1\"])"
   ]
  },
  {
   "cell_type": "code",
   "execution_count": 23,
   "metadata": {},
   "outputs": [
    {
     "name": "stdout",
     "output_type": "stream",
     "text": [
      "[Document(page_content='Article 26 Financial resources\\n\\n1. objective of this Convention. The Parties recognize the important role that financial resources play in achieving the\\n\\n2. Each Party shall provide financial support in respect of its national activities intended to achieve the objective of the Convention, in accordance with its national plans, priorities and programmes.\\n\\n3. Parties shall promote, as appropriate, the utilization of bilateral, regional, subregional and other multilateral channels to provide funding for the development and strengthening of\\n\\n23\\n\\nWHO Framework Convention on Tobacco Control\\n\\nmultisectoral comprehensive tobacco control programmes of developing country Parties and Parties with economies in transition. Accordingly, economically viable alternatives to tobacco production, including crop diversification should be addressed and supported in the context of nationally developed strategies of sustainable development.\\n\\n4. Parties represented in relevant regional and international intergovernmental organizations, and financial and development institutions shall encourage these entities to provide financial assistance for developing country Parties and for Parties with economies in transition to assist them in meeting their obligations under the Convention, without limiting the rights of participation within these organizations.\\n\\n5. The Parties agree that:\\n\\n(a) to assist Parties in meeting their obligations under the Convention, all relevant potential and existing resources, financial, technical, or otherwise, both public and private that are available for tobacco control activities, should be mobilized and utilized for the benefit of all Parties, especially developing countries and countries with economies in transition;\\n\\n(b) the Secretariat shall advise developing country Parties and Parties with economies in transition, upon request, on available sources of funding to facilitate the implementation of their obligations under the Convention;\\n\\n(c) the Conference of the Parties in its first session shall review existing and potential sources and mechanisms of assistance based on a study conducted by the Secretariat and other relevant information, and consider their adequacy; and\\n\\n(d) the results of this review shall be taken into account by the Conference of the Parties in determining the necessity to enhance existing mechanisms or to establish a voluntary global fund or other appropriate financial mechanisms to channel additional financial resources, as needed, to developing country Parties and Parties with economies in transition to assist them in meeting the objectives of the Convention.', metadata={'id': '25_1_WHO_FCTC.pdf_30', 'type': 'text', 'filename': '1_WHO_FCTC.pdf', 'page_number': 30}), Document(page_content='Article 24 Secretariat\\n\\n1. The Conference of the Parties shall designate a permanent secretariat and make arrangements for its functioning. The Conference of the Parties shall endeavour to do so at its first session.\\n\\n2. functions under this Convention shall be provided by the World Health Organization.\\n\\nSecretariat functions shall be:\\n\\n(a) subsidiary bodies and to provide them with services as required; to make arrangements for sessions of the Conference of the Parties and any\\n\\n22\\n\\nWHO Framework Convention on Tobacco Control\\n\\nto transmit reports received by it pursuant to the Convention;\\n\\n(c) to provide support to the Parties, particularly developing country Parties and Parties with economies in transition, on request, in the compilation and communication of information required in accordance with the provisions of the Convention;\\n\\n(d) the Conference of the Parties and submit them to the Conference of the Parties;\\n\\n(e) to ensure, under the guidance of the Conference of the Parties, the necessary coordination with the competent international and regional intergovernmental organizations and other bodies;\\n\\n(f) to enter, under the guidance of the Conference of the Parties, into such administrative or contractual arrangements as may be required for the effective discharge of its functions; and\\n\\n(g) to perform other secretariat functions specified by the Convention and by any of its protocols and such other functions as may be determined by the Conference of the Parties.\\n\\nArticle 25 Relations between the Conference of the Parties and intergovernmental organizations\\n\\nIn order to provide technical and financial cooperation for achieving the objective of this Convention, the Conference of the Parties may request the cooperation of competent international and regional intergovernmental organizations including financial and development institutions.', metadata={'id': '24_1_WHO_FCTC.pdf_29', 'type': 'text', 'filename': '1_WHO_FCTC.pdf', 'page_number': 29}), Document(page_content='PART VIII: INSTITUTIONAL ARRANGEMENTS AND FINANCIAL RESOURCES\\n\\nArticle 23 Conference of the Parties\\n\\nA Conference of the Parties is hereby established. The first session of the Conference 1. shall be convened by the World Health Organization not later than one year after the entry into force of this Convention. The Conference will determine the venue and timing of subsequent regular sessions at its first session.\\n\\n2. Extraordinary sessions of the Conference of the Parties shall be held at such other times as may be deemed necessary by the Conference, or at the written request of any Party, provided that, within six months of the request being communicated to them by the Secretariat of the Convention, it is supported by at least one-third of the Parties.\\n\\n3. session. The Conference of the Parties shall adopt by consensus its Rules of Procedure at its first\\n\\n4. The Conference of the Parties shall by consensus adopt financial rules for itself as well as governing the funding of any subsidiary bodies it may establish as well as financial provisions governing the functioning of the Secretariat. At each ordinary session, it shall adopt a budget for the financial period until the next ordinary session.\\n\\n5. The Conference of the Parties shall keep under regular review the implementation of the Convention and take the decisions necessary to promote its effective implementation and may adopt protocols, annexes and amendments to the Convention, in accordance with Articles 28, 29 and 33. Towards this end, it shall:\\n\\n(a) 21; promote and facilitate the exchange of information pursuant to Articles 20 and\\n\\n21\\n\\nWHO Framework Convention on Tobacco Control\\n\\n(b) promote and guide the development and periodic refinement of comparable methodologies for research and the collection of data, in addition to those provided for in Article 20, relevant to the implementation of the Convention;\\n\\n(c) promote, as appropriate, the development, implementation and evaluation of strategies, plans, and programmes, as well as policies, legislation and other measures;\\n\\n(d) adopt regular reports on the implementation of the Convention; consider reports submitted by the Parties in accordance with Article 21 and\\n\\n(e) implementation of the Convention in accordance with Article 26; promote and facilitate the mobilization of financial resources for the\\n\\n(f) Convention; establish such subsidiary bodies as are necessary to achieve the objective of the\\n\\n(g) request, where appropriate, the services and cooperation of, and information provided by, competent and relevant organizations and bodies of the United Nations system and other international and regional intergovernmental organizations and nongovernmental organizations and bodies as a means of strengthening the implementation of the Convention; and\\n\\n(h) Convention in the light of experience gained in its implementation. consider other action, as appropriate, for the achievement of the objective of the\\n\\n6. observers at its proceedings. The Conference of the Parties shall establish the criteria for the participation of', metadata={'id': '23_1_WHO_FCTC.pdf_28', 'type': 'text', 'filename': '1_WHO_FCTC.pdf', 'page_number': 28}), Document(page_content='Article 21 Reporting and exchange of information\\n\\n1. Each Party shall submit to the Conference of the Parties, through the Secretariat, periodic reports on its implementation of this Convention, which should include the following:\\n\\n(a) implement the Convention; information on legislative, executive, administrative or other measures taken to\\n\\ninformation, as appropriate, on any constraints or barriers encountered in its (b) implementation of the Convention, and on the measures taken to overcome these barriers;\\n\\n(c) received for tobacco control activities; information, as appropriate, on financial and technical assistance provided or\\n\\ninformation on surveillance and research as specified in Article 20; and\\n\\ninformation specified in Articles 6.3, 13.2, 13.3, 13.4(d), 15.5 and 19.2.\\n\\n2. The frequency and format of such reports by all Parties shall be determined by the Conference of the Parties. Each Party shall make its initial report within two years of the entry into force of the Convention for that Party.\\n\\n19\\n\\nWHO Framework Convention on Tobacco Control\\n\\n3. The Conference of the Parties, pursuant to Articles 22 and 26, shall consider arrangements to assist developing country Parties and Parties with economies in transition, at their request, in meeting their obligations under this Article.\\n\\n4. The reporting and exchange of information under the Convention shall be subject to national law regarding confidentiality and privacy. The Parties shall protect, as mutually agreed, any confidential information that is exchanged.\\n\\nArticle 22 Cooperation in the scientific, technical, and legal fields and provision of related expertise\\n\\n1. The Parties shall cooperate directly or through competent international bodies to strengthen their capacity to fulfill the obligations arising from this Convention, taking into account the needs of developing country Parties and Parties with economies in transition. Such cooperation shall promote the transfer of technical, scientific and legal expertise and technology, as mutually agreed, to establish and strengthen national tobacco control strategies, plans and programmes aiming at, inter alia:\\n\\n(a) knowledge, skills, capacity and expertise related to tobacco control; facilitation of the development, transfer and acquisition of technology,\\n\\n(b) provision of technical, scientific, legal and other expertise to establish and strengthen national tobacco control strategies, plans and programmes, aiming at implementation of the Convention through, inter alia:\\n\\n(i) assisting, upon request, in the development of a strong legislative foundation as well as technical programmes, including those on prevention of initiation, promotion of cessation and protection from exposure to tobacco smoke;\\n\\n(ii) assisting, as appropriate, tobacco workers in the development of appropriate economically and legally viable alternative livelihoods in an economically viable manner; and\\n\\n(iii) assisting, as appropriate, tobacco growers in shifting agricultural production to alternative crops in an economically viable manner;\\n\\n(c) personnel in accordance with Article 12; support for appropriate training or sensitization programmes for appropriate\\n\\n(d) well as logistical support, for tobacco control strategies, plans and programmes;\\n\\n20\\n\\nWHO Framework Convention on Tobacco Control\\n\\n(e) treatment of nicotine addiction; and identification of methods for tobacco control, including comprehensive\\n\\n(f) comprehensive treatment of nicotine addiction. promotion, as appropriate, of research to increase the affordability of\\n\\n2. The Conference of the Parties shall promote and facilitate transfer of technical, scientific and legal expertise and technology with the financial support secured in accordance with Article 26.', metadata={'id': '22_1_WHO_FCTC.pdf_26', 'type': 'text', 'filename': '1_WHO_FCTC.pdf', 'page_number': 26}), Document(page_content='to take appropriate steps to provide support to Member States, in particular (2) developing countries and countries with economies in transition, in preparation for entry into force of the Convention;\\n\\n(3) the Conference of session of Intergovernmental Working Group; to convene, as frequently as necessary, between 16 June 2003 and the first the Open-ended the Parties, meetings of\\n\\n(4) direction and support for global tobacco control; to continue to ensure that WHO plays a key role in providing technical advice,\\n\\n(5) to keep the Health Assembly informed of progress made toward entry into force of the Convention and of preparations under way for the first session of the Conference of the Parties.\\n\\n32\\n\\nWHO Framework Convention on Tobacco Control', metadata={'id': '31_1_WHO_FCTC.pdf_39', 'type': 'text', 'filename': '1_WHO_FCTC.pdf', 'page_number': 39})]\n"
     ]
    },
    {
     "data": {
      "application/vnd.jupyter.widget-view+json": {
       "model_id": "5b8d48dfa1e04b299898dc6cd656fb05",
       "version_major": 2,
       "version_minor": 0
      },
      "text/plain": [
       "Groundedness per statement in source:   0%|          | 0/4 [00:00<?, ?it/s]"
      ]
     },
     "metadata": {},
     "output_type": "display_data"
    },
    {
     "name": "stdout",
     "output_type": "stream",
     "text": [
      "[Document(page_content='Article 9 Regulation of the contents of tobacco products\\n\\nThe Conference of the Parties, in consultation with competent international bodies, shall propose guidelines for testing and measuring the contents and emissions of tobacco products, and for the regulation of these contents and emissions. Each Party shall, where approved by competent national authorities, adopt and implement effective legislative, executive and administrative or other measures for such testing and measuring, and for such regulation.\\n\\nArticle 10 Regulation of tobacco product disclosures\\n\\nEach Party shall, in accordance with its national law, adopt and implement effective legislative, executive, administrative or other measures requiring manufacturers and importers of tobacco products to disclose to governmental authorities information about the contents and emissions of tobacco products. Each Party shall further adopt and implement effective measures for public disclosure of information about the toxic constituents of the tobacco products and the emissions that they may produce.\\n\\nArticle 11 Packaging and labelling of tobacco products\\n\\n1. Each Party shall, within a period of three years after entry into force of this Convention for that Party, adopt and implement, in accordance with its national law, effective measures to ensure that:\\n\\n(a) tobacco product packaging and labelling do not promote a tobacco product by any means that are false, misleading, deceptive or likely to create an erroneous impression about its characteristics, health effects, hazards or emissions, including any term, descriptor, trademark, figurative or any other sign that directly or indirectly creates the false impression that a particular tobacco product is less harmful than other tobacco products. These may include terms such as “low tar”, “light”, “ultra-light”, or “mild”; and\\n\\n(b) each unit packet and package of tobacco products and any outside packaging and labelling of such products also carry health warnings describing the harmful effects of tobacco use, and may include other appropriate messages. These warnings and messages:\\n\\n(i) shall be approved by the competent national authority,\\n\\n9\\n\\nWHO Framework Convention on Tobacco Control\\n\\n(ii) shall be rotating,\\n\\n(iii) shall be large, clear, visible and legible,\\n\\n(iv) should be 50% or more of the principal display areas but shall be no less than 30% of the principal display areas,\\n\\n(v) may be in the form of or include pictures or pictograms.\\n\\nEach unit packet and package of tobacco products and any outside packaging and 2. labelling of such products shall, in addition to the warnings specified in paragraph 1(b) of this Article, contain information on relevant constituents and emissions of tobacco products as defined by national authorities.\\n\\nEach Party shall require that the warnings and other textual information specified in 3. paragraphs 1(b) and paragraph 2 of this Article will appear on each unit packet and package of tobacco products and any outside packaging and labelling of such products in its principal language or languages.\\n\\n4. For the purposes of this Article, the term “outside packaging and labelling” in relation to tobacco products applies to any packaging and labelling used in the retail sale of the product.', metadata={'id': '13_1_WHO_FCTC.pdf_16', 'type': 'text', 'filename': '1_WHO_FCTC.pdf', 'page_number': 16}), Document(page_content='8. Parties shall consider the elaboration of a protocol setting out appropriate measures that require international collaboration for a comprehensive ban on cross-border advertising, promotion and sponsorship.\\n\\n12\\n\\nWHO Framework Convention on Tobacco Control\\n\\nArticle 14 Demand reduction measures concerning tobacco dependence and cessation\\n\\n1. Each Party shall develop and disseminate appropriate, comprehensive and integrated guidelines based on scientific evidence and best practices, taking into account national circumstances and priorities, and shall take effective measures to promote cessation of tobacco use and adequate treatment for tobacco dependence.\\n\\nTowards this end, each Party shall endeavour to:\\n\\n(a) design and implement effective programmes aimed at promoting the cessation of tobacco use, in such locations as educational institutions, health care facilities, workplaces and sporting environments;\\n\\n(b) include diagnosis and treatment of tobacco dependence and counselling services on cessation of tobacco use in national health and education programmes, plans and strategies, with the participation of health workers, community workers and social workers as appropriate;\\n\\n(c) diagnosing, counselling, preventing and treating tobacco dependence; and\\n\\n(d) collaborate with other Parties to facilitate accessibility and affordability for treatment of tobacco dependence including pharmaceutical products pursuant to Article 22. Such products and their constituents may include medicines, products used to administer medicines and diagnostics when appropriate.\\n\\nPART IV: MEASURES RELATING TO THE REDUCTION OF THE SUPPLY OF TOBACCO', metadata={'id': '16_1_WHO_FCTC.pdf_19', 'type': 'text', 'filename': '1_WHO_FCTC.pdf', 'page_number': 19}), Document(page_content='Article 16 Sales to and by minors\\n\\n1. or other measures at the appropriate government level to prohibit the sales of tobacco products to persons under the age set by domestic law, national law or eighteen. These measures may include:\\n\\nrequiring that all sellers of tobacco products place a clear and prominent (a) indicator inside their point of sale about the prohibition of tobacco sales to minors and, in case of doubt, request that each tobacco purchaser provide appropriate evidence of having reached full legal age;\\n\\n(b) accessible, such as store shelves; banning the sale of tobacco products in any manner by which they are directly\\n\\n(c) in the form of tobacco products which appeal to minors; and prohibiting the manufacture and sale of sweets, snacks, toys or any other objects\\n\\n(d) to minors and do not promote the sale of tobacco products to minors. ensuring that tobacco vending machines under its jurisdiction are not accessible\\n\\n2. products to the public and especially minors. Each Party shall prohibit or promote the prohibition of the distribution of free tobacco\\n\\n3. packets which increase the affordability of such products to minors. Each Party shall endeavour to prohibit the sale of cigarettes individually or in small\\n\\n15\\n\\nWHO Framework Convention on Tobacco Control\\n\\n4. The Parties recognize that in order to increase their effectiveness, measures to prevent tobacco product sales to minors should, where appropriate, be implemented in conjunction with other provisions contained in this Convention.\\n\\n5. When signing, ratifying, accepting, approving or acceding to the Convention or at any time thereafter, a Party may, by means of a binding written declaration, indicate its commitment to prohibit the introduction of tobacco vending machines within its jurisdiction or, as appropriate, to a total ban on tobacco vending machines. The declaration made pursuant to this Article shall be circulated by the Depositary to all Parties to the Convention.\\n\\nEach Party shall adopt and implement effective legislative, executive, administrative or 6. other measures, including penalties against sellers and distributors, in order to ensure compliance with the obligations contained in paragraphs 1-5 of this Article.\\n\\nEach Party should, as appropriate, adopt and implement effective legislative, executive, 7. administrative or other measures to prohibit the sales of tobacco products by persons under the age set by domestic law, national law or eighteen.', metadata={'id': '18_1_WHO_FCTC.pdf_22', 'type': 'text', 'filename': '1_WHO_FCTC.pdf', 'page_number': 22}), Document(page_content='Article 5 General obligations\\n\\n1. Each Party shall develop, implement, periodically update and review comprehensive multisectoral national tobacco control strategies, plans and programmes in accordance with this Convention and the protocols to which it is a Party.\\n\\nTowards this end, each Party shall, in accordance with its capabilities:\\n\\n(a) points for tobacco control; and establish or reinforce and finance a national coordinating mechanism or focal\\n\\n(b) adopt and implement effective legislative, executive, administrative and/or other measures and cooperate, as appropriate, with other Parties in developing appropriate policies for preventing and reducing tobacco consumption, nicotine addiction and exposure to tobacco smoke.\\n\\nIn setting and implementing their public health policies with respect to tobacco control, 3. Parties shall act to protect these policies from commercial and other vested interests of the tobacco industry in accordance with national law.\\n\\nThe Parties shall cooperate in the formulation of proposed measures, procedures and 4. guidelines for the implementation of the Convention and the protocols to which they are Parties.\\n\\n5. The Parties shall cooperate, as appropriate, with competent international and regional intergovernmental organizations and other bodies to achieve the objectives of the Convention and the protocols to which they are Parties.\\n\\n6. The Parties shall, within means and resources at their disposal, cooperate to raise financial resources for effective implementation of the Convention through bilateral and multilateral funding mechanisms.\\n\\nPART III: MEASURES RELATING TO THE REDUCTION OF DEMAND FOR TOBACCO\\n\\nArticle 6 Price and tax measures to reduce the demand for tobacco\\n\\n1. The Parties recognize that price and tax measures are an effective and important means of reducing tobacco consumption by various segments of the population, in particular young persons.\\n\\n7\\n\\nWHO Framework Convention on Tobacco Control\\n\\n2. Without prejudice to the sovereign right of the Parties to determine and establish their taxation policies, each Party should take account of its national health objectives concerning tobacco control and adopt or maintain, as appropriate, measures which may include:\\n\\n(a) implementing tax policies and, where appropriate, price policies, on tobacco products so as to contribute to the health objectives aimed at reducing tobacco consumption; and\\n\\n(b) international travellers of tax- and duty-free tobacco products. prohibiting or restricting, as appropriate, sales to and/or importations by\\n\\n3. The Parties shall provide rates of taxation for tobacco products and trends in tobacco consumption in their periodic reports to the Conference of the Parties, in accordance with Article 21.\\n\\nArticle 7 Non-price measures to reduce the demand for tobacco\\n\\nThe Parties recognize that comprehensive non-price measures are an effective and important means of reducing tobacco consumption. Each Party shall adopt and implement effective legislative, executive, administrative or other measures necessary to implement its obligations pursuant to Articles 8 to 13 and shall cooperate, as appropriate, with each other directly or through competent international bodies with a view to their implementation. The Conference of the Parties shall propose appropriate guidelines for the implementation of the provisions of these Articles.\\n\\nArticle 8 Protection from exposure to tobacco smoke\\n\\n1. exposure to tobacco smoke causes death, disease and disability. Parties recognize that scientific evidence has unequivocally established that\\n\\n2. determined by national law and actively promote at other jurisdictional levels the adoption and implementation of effective legislative, executive, administrative and/or other measures, providing for protection from exposure to tobacco smoke in indoor workplaces, public transport, indoor public places and, as appropriate, other public places.\\n\\n8\\n\\nWHO Framework Convention on Tobacco Control', metadata={'id': '12_1_WHO_FCTC.pdf_14', 'type': 'text', 'filename': '1_WHO_FCTC.pdf', 'page_number': 14}), Document(page_content='Article 13 Tobacco advertising, promotion and sponsorship\\n\\n1. would reduce the consumption of tobacco products. Parties recognize that a comprehensive ban on advertising, promotion and sponsorship\\n\\n2. Each Party shall, in accordance with its constitution or constitutional principles, undertake a comprehensive ban of all tobacco advertising, promotion and sponsorship. This shall include, subject to the legal environment and technical means available to that Party, a comprehensive ban on cross-border advertising, promotion and sponsorship originating from its territory. In this respect, within the period of five years after entry into force of this Convention for that Party, each Party shall undertake appropriate legislative, executive, administrative and/or other measures and report accordingly in conformity with Article 21.\\n\\n3. A Party that is not in a position to undertake a comprehensive ban due to its constitution or constitutional principles shall apply restrictions on all tobacco advertising, promotion and sponsorship. This shall include, subject to the legal environment and technical means available to that Party, restrictions or a comprehensive ban on advertising, promotion and sponsorship originating from its territory with cross-border effects. In this respect, each Party shall undertake appropriate legislative, executive, administrative and/or other measures and report accordingly in conformity with Article 21.\\n\\n4. Party shall: As a minimum, and in accordance with its constitution or constitutional principles, each\\n\\nprohibit all forms of tobacco advertising, promotion and sponsorship that (a) promote a tobacco product by any means that are false, misleading or deceptive or likely to create an erroneous impression about its characteristics, health effects, hazards or emissions;\\n\\n11\\n\\nWHO Framework Convention on Tobacco Control\\n\\n(b) tobacco advertising and, as appropriate, promotion and sponsorship; require that health or other appropriate warnings or messages accompany all\\n\\n(c) tobacco products by the public; restrict the use of direct or indirect incentives that encourage the purchase of\\n\\n(d) require, if it does not have a comprehensive ban, the disclosure to relevant governmental authorities of expenditures by the tobacco industry on advertising, promotion and sponsorship not yet prohibited. Those authorities may decide to make those figures available, subject to national law, to the public and to the Conference of the Parties, pursuant to Article 21;\\n\\n(e) undertake a comprehensive ban or, in the case of a Party that is not in a position to undertake a comprehensive ban due to its constitution or constitutional principles, restrict tobacco advertising, promotion and sponsorship on radio, television, print media and, as appropriate, other media, such as the internet, within a period of five years; and\\n\\nprohibit, or in the case of a Party that is not in a position to prohibit due to its (f) constitution or constitutional principles restrict, tobacco sponsorship of international events, activities and/or participants therein.\\n\\n5. paragraph 4. Parties are encouraged to implement measures beyond the obligations set out in\\n\\n6. facilitate the elimination of cross-border advertising. Parties shall cooperate in the development of technologies and other means necessary to\\n\\n7. Parties which have a ban on certain forms of tobacco advertising, promotion and sponsorship have the sovereign right to ban those forms of cross-border tobacco advertising, promotion and sponsorship entering their territory and to impose equal penalties as those applicable to domestic advertising, promotion and sponsorship originating from their territory in accordance with their national law. This paragraph does not endorse or approve of any particular penalty.', metadata={'id': '15_1_WHO_FCTC.pdf_18', 'type': 'text', 'filename': '1_WHO_FCTC.pdf', 'page_number': 18})]\n"
     ]
    },
    {
     "data": {
      "application/vnd.jupyter.widget-view+json": {
       "model_id": "1d94c4f384de40cc8e8be50ab28dcfcf",
       "version_major": 2,
       "version_minor": 0
      },
      "text/plain": [
       "Groundedness per statement in source:   0%|          | 0/3 [00:00<?, ?it/s]"
      ]
     },
     "metadata": {},
     "output_type": "display_data"
    },
    {
     "name": "stdout",
     "output_type": "stream",
     "text": [
      "[Document(page_content='Sales Tax\\n\\nApplication for registration\\n\\n13. (1) Any manufacturer who is liable to be registered under section 12 shall apply to the Director General for registration as a registered manufacturer in the prescribed form not later than the last day of the month following the month in which he is liable to be registered as referred to in paragraph 12(2)(a) or (b).\\n\\n(2) Upon receipt of the application under subsection (1), the Director General may approve the registration, subject to such conditions as he deems fit.\\n\\n(3) The Director General shall register the manufacturer under subsection (1) with effect from the first day of the month following the month in which the application under subsection (1) is made or from such earlier date as may be agreed between the Director General and the manufacturer but such date shall not be earlier than the date he becomes liable to be registered.\\n\\n(4) Where any manufacturer fails to comply with subsection (1), the Director General shall register the manufacturer on the date as the Director General may determine but not earlier than the date he is liable to be registered under section 12.\\n\\n(5) Any manufacturer who fails to comply with subsection (1) commits an offence.\\n\\nVoluntary registration\\n\\n14. (1) Any manufacturer who is not liable to be registered under section 12 may apply to the Director General for registration as a registered manufacturer.\\n\\n(2) Upon receipt of the application under subsection (1), the Director General may approve the registration from such date as he may determine subject to such conditions as he deems fit.\\n\\nDirection to treat persons as single taxable person\\n\\n15. (1) Notwithstanding section 12, where the Director General is satisfied that any separation of business activities is artificial, he may make a direction requiring that—\\n\\n(a) the persons named in that direction be treated as a single taxable person carrying on business activities described\\n\\n21\\n\\n22 Laws of Malaysia', metadata={'id': '12_2_SalesTaxAct2018_Malaysia.pdf_21', 'type': 'text', 'filename': '2_SalesTaxAct2018_Malaysia.pdf', 'page_number': 21}), Document(page_content='Sales Tax\\n\\n(2) Notwithstanding subsection (1)—\\n\\n(a) the Minister may determine different time for sales tax to be due in respect of petroleum subject to such conditions as the Minister deems fit; and\\n\\n(b) where any sale of taxable goods is made by any person, who is a taxable person under this Act, within the period beginning from 1 June 2018 and ending immediately before the effective date, and the taxable goods are delivered on or after the effective date—\\n\\n(i) the sale of such taxable goods shall be deemed to have been made on the date such taxable goods are delivered notwithstanding any payment, wholly or partly, is received or invoice is issued, for such taxable goods during such period;\\n\\n(ii) any payment received within such period or on or after the effective date, or invoice issued within such period, shall be deemed to have been received or issued on the date such taxable goods are delivered; and\\n\\n(iii) sales tax shall be charged and levied on such taxable goods and shall become due on the date such taxable goods are delivered.\\n\\n(3) Where the taxable goods referred to in subparagraph (2)(b) are petroleum, the sales tax in respect of such petroleum shall be due at the time as determined under subparagraph (2)(a).\\n\\n(4) Where any registered manufacturer who ceases to carry on business as a manufacturer is succeeded in such business by another person who—\\n\\n(a) purchases from the registered manufacturer any stock of taxable goods which is on hand at the date of cessation; or\\n\\n(b) acquires any stock of taxable goods as a trustee, receiver, liquidator, donee, or beneficiary of such registered manufacturer,\\n\\nno sales tax shall be due on such purchase or acquisition.\\n\\n19\\n\\n20\\n\\nLaws of Malaysia\\n\\nACT 806\\n\\nPART IV\\n\\nREGISTRATION\\n\\nLiability to be registered\\n\\n12. (1) The Minister may, by order published in the Gazette, determine the total sale value of taxable goods for the purpose of registration of any manufacturer under this Part.\\n\\n(2) Subject to subsection (3), any manufacturer of taxable goods is liable to be registered at the following time, whichever is the earlier:\\n\\n(a) at the end of any month, where the total sale value of all his taxable goods in that month and the eleven months immediately preceding that month has exceeded the total sale value of taxable goods determined under subsection (1); or\\n\\n(b) at the end of any month, where there are reasonable grounds for believing that the total sale value of all his taxable goods in that month and the eleven months immediately succeeding that month will exceed the total sale value of taxable goods determined under subsection (1).\\n\\n(3) The total sale value of all taxable goods of a manufacturer in the month and the eleven months immediately preceding that month referred to in paragraph (2)(a) shall be disregarded if—\\n\\n(a) the registration of the manufacturer is cancelled, otherwise than under subsection 19(3), during that period; and\\n\\n(b) the Director General is satisfied that before the manufacturer’s registration is cancelled, he has given all information required by the Director General in order to determine whether to cancel the registration or not.\\n\\n(4) Where any person succeeds any business from a registered manufacturer as specified in subsection 11(4), such person shall be deemed to be a manufacturer who is liable to be registered on the date he succeeded the business.', metadata={'id': '11_2_SalesTaxAct2018_Malaysia.pdf_19', 'type': 'text', 'filename': '2_SalesTaxAct2018_Malaysia.pdf', 'page_number': 19}), Document(page_content='Sales Tax\\n\\nObstruction\\n\\n92. Any person who in any way obstructs, assaults or hinders any proper officer of sales tax in the discharge of his functions under this Act commits an offence and shall, on conviction, be liable to imprisonment for a term not exceeding five years or to a fine not exceeding one hundred thousand ringgit or to both.\\n\\nOffences by company, etc.\\n\\n93. (1) Where any company, limited liability partnership, firm, society or other body of persons commits an offence under this Act, a person who at the time of the commission of the offence was a director, compliance officer, partner, manager, secretary or other similar officer of the company, limited liability partnership, firm, society or other body of persons or was purporting to act in the capacity or was in any manner or to any extent responsible for the management of any of the affairs of the company, limited liability partnership, firm, society or other body of persons or was assisting in its management—\\n\\n(a) may be charged severally or jointly in the same proceedings with the company, limited liability partnership, firm, society or the body of persons; and\\n\\n(b) if the company, limited liability partnership, firm, society or the body of persons is found guilty of the offence, shall be deemed to be guilty of that offence unless, having regard to the nature of his functions in that capacity and to all circumstances, he proves—\\n\\n(i) that the offence was committed without his knowledge; or\\n\\n(ii) that the offence was commited without his consent or connivance and that he had taken all reasonable precautions and exercised due diligence to prevent the commission of the offence.\\n\\n(2) Where any person would be liable under this Act to any punishment, penalty or forfeiture for any act, omission, neglect or default, he shall be liable to the same punishment, penalty or forfeiture for every such act, omission, neglect or default of the\\n\\n79\\n\\n80\\n\\nLaws of Malaysia\\n\\nACT 806\\n\\nperson’s employee or agent, or of the employee of the person’s agent, if the act, omission, neglect or default was committed—\\n\\n(a) by that person’s employee in the course of his employment;\\n\\n(b) by that person’s agent when acting on behalf of that person; or\\n\\n(c) by the employee of that person’s agent when acting in the course of his employment by the person’s agent or otherwise on behalf of the person’s agent acting on behalf of that person.', metadata={'id': '47_2_SalesTaxAct2018_Malaysia.pdf_79', 'type': 'text', 'filename': '2_SalesTaxAct2018_Malaysia.pdf', 'page_number': 79}), Document(page_content='ACT 806\\n\\n(9) Any person who contravenes paragraph (3)(a) or (b) commits an offence.\\n\\n(10) For the purposes of this section, a partnership excludes a limited liability partnership.\\n\\nCessation of liability to be registered\\n\\n17. (1) Subject to subsection (2), any registered manufacturer shall cease to be liable to be registered at the end of any month where the Director General is satisfied that the total sale value of all his taxable goods in that month and the eleven months immediately succeeding that month (“hereinafter referred to as “the period of twelve months”) does not exceed the total sale value of taxable goods determined under subsection 12(1).\\n\\n(2) A registered manufacturer shall not cease to be liable to be registered by virtue of subsection (1) where the Director General is satisfied that the reason the total sale value of all his taxable goods does not exceed the total sale value of taxable goods determined under subsection 12(1) is that in the period of twelve months referred to in subsection (1) he temporarily ceases manufacturing such taxable goods, or suspends manufacturing such taxable goods for a period of thirty days or more.\\n\\nNotification of cessation of liability\\n\\n18. (1) A manufacturer registered under section 13 or 14—\\n\\n(a) who ceases to manufacture taxable goods; or\\n\\n(b) who ceases to be liable to be registered under section 17,\\n\\nas the case may be, shall notify the Director General in writing of that fact and the date of cessation within thirty days from the date of cessation.\\n\\n(2) Any person who contravenes subsection (1) commits an offence.\\n\\nSales Tax\\n\\nCancellation of registration\\n\\n19. (1) Where a registered manufacturer makes a notification under section 18, the Director General may cancel the manufacturer’s registration from the date the registered manufacturer ceased to manufacture taxable goods or ceased to be liable to be registered under section 17, as the case may be, or from such later date as the Director General may determine if he is satisfied that the registered manufacturer can be deregistered.\\n\\n(2) Where there is no notification made under section 18 and the Director General is satisfied that a registered manufacturer has ceased to manufacture taxable goods or has ceased to be liable to be registered under section 17, the Director General may cancel his registration from the date the registered manufacturer ceased to manufacture taxable goods or ceased to be liable to be registered under section 17, as the case may be, or from such later date as the Director General may determine.\\n\\n(3) Where the Director General is satisfied that on the day on which a manufacturer was registered—\\n\\n(a) in the case of a manufacturer who was registered under section 13, the manufacturer was not liable to be registered under section 12 or has ceased to manufacture taxable goods; or\\n\\n(b) in the case of a manufacturer who was registered under section 14, the manufacturer was not manufacturing taxable goods or has ceased to manufacture taxable goods,\\n\\nthe Director General may cancel the registration of the manufacturer with effect from the date as determined by the Director General in the notification in writing to such manufacturer.\\n\\n(4) The Director General may cancel the registration of a registered manufacturer under subsection 14(2) if the registered manufacturer is in breach of any conditions imposed in relation to such registration with effect from the date of the breach or from such later date as the Director General may determine.\\n\\n27\\n\\n28\\n\\nLaws of Malaysia', metadata={'id': '15_2_SalesTaxAct2018_Malaysia.pdf_26', 'type': 'text', 'filename': '2_SalesTaxAct2018_Malaysia.pdf', 'page_number': 26}), Document(page_content='ACT 806\\n\\nChief Statistician of the Department of Statistics Malaysia which may be required in the performance of his official duty.\\n\\n(5) Notwithstanding subsection (4), the Minister may, as he deems fit, allow the Director General to transmit or communicate any document, information, return or declaration referred to in subsection (1) or anything contained therein to any other person.\\n\\nPART III\\n\\nIMPOSITION AND SCOPE OF SALES TAX\\n\\nImposition and scope of sales tax\\n\\n8. (1) A tax to be known as sales tax shall be charged and levied on all taxable goods—\\n\\n(a) manufactured in Malaysia by a registered manufacturer and sold, used or disposed of by him; or\\n\\n(b) imported into Malaysia by any person.\\n\\n(2) Sales tax on any importation of taxable goods into Malaysia shall be levied and payable as if it were a customs duty or an excise duty and as if the imported taxable goods are dutiable and liable to customs duty or excise duty.\\n\\n(3) This Act shall be construed as one with the Customs Act 1967 and the Excise Act 1976 [Act 176] with regards to the importation or exportation of goods including goods in transit and the movement of goods under customs control or excise control.\\n\\n(4) Where there is any inconsistency between the provisions of the Customs Act 1967 or the Excise Act 1976 and the provisions of this Act, the provisions of this Act shall prevail.\\n\\nDetermination of sale value of taxable goods\\n\\n9. (1) In the case of taxable goods—\\n\\n(a) sold by a taxable person; or\\n\\nSales Tax\\n\\n(b) manufactured by a taxable person and—\\n\\n(i) used by him otherwise than as materials in the manufacture of the taxable goods; or\\n\\n(ii) disposed of by him otherwise than by sale,\\n\\nthe sale value of such taxable goods shall be determined in accordance with the regulations made under this Act.\\n\\n(2) In the case of taxable goods imported into Malaysia, the sale value of the taxable goods shall be the sum of the following amounts:\\n\\n(a) the value of such taxable goods for the purpose of customs duty as determined in accordance with the Customs Act 1967;\\n\\n(b) the amount of customs duty, if any, paid or to be paid on such taxable goods; and\\n\\n(c) the amount of excise duty, if any, paid or to be paid on such taxable goods.\\n\\n(3) Where any registered manufacturer receives taxable goods from any person to be manufactured and subsequently returns the goods so manufactured to such person, the sale value of the goods so manufactured shall, subject to approval of the Director General, be the amount that the manufacturer charges for work performed by him.', metadata={'id': '9_2_SalesTaxAct2018_Malaysia.pdf_16', 'type': 'text', 'filename': '2_SalesTaxAct2018_Malaysia.pdf', 'page_number': 16})]\n"
     ]
    },
    {
     "data": {
      "application/vnd.jupyter.widget-view+json": {
       "model_id": "6671b71e0990482db691b0031b196fe2",
       "version_major": 2,
       "version_minor": 0
      },
      "text/plain": [
       "Groundedness per statement in source:   0%|          | 0/23 [00:00<?, ?it/s]"
      ]
     },
     "metadata": {},
     "output_type": "display_data"
    },
    {
     "name": "stdout",
     "output_type": "stream",
     "text": [
      "[Document(page_content='Claim for refund of sales tax in relation to bad debt\\n\\n36. (1) Any person who is, or has ceased to be, a registered manufacturer may make a claim to the Director General for a refund of the whole or any part of any sales tax paid by him in respect of taxable goods if—\\n\\n(a) the whole or any part of the sales tax payable to such person has been written off in his accounts as bad debts; and\\n\\n(b) the Director General is satisfied that all reasonable efforts have been made by such person to recover the sales tax.\\n\\nSales Tax\\n\\n(2) Where the person who makes a claim for a refund under subsection (1) in relation to bad debt—\\n\\n(a) has not received any payment in respect of the sale of taxable goods, such person may make a claim for a refund of the whole of the sales tax paid; or\\n\\n(b) has received any payment in respect of the taxable goods, such person may make a claim for the difference between the sales tax paid and the amount calculated in accordance with the following formula:\\n\\nA B x C\\n\\nwhere A is the payment received in respect of the sale of such taxable goods;\\n\\nis the sale value of such taxable goods plus sales tax payable on such taxable goods; and\\n\\nis the sales tax payable on such taxable goods.\\n\\n(3) The person referred to in subsection (1) may make a claim for a refund of the whole or any part of any sales tax in relation to the bad debt within six years from the date the sales tax is paid by him and the Director General may refund the whole or any part of the sales tax after being satisfied that the person has properly established the claim.\\n\\n(4) For the purposes of this section, “bad debt” means an outstanding amount of the payment in respect of the sale of taxable goods including the sales tax which is due to a person who is, or has ceased to be, a registered manufacturer but has not been paid to, and is irrecoverable by, the person.\\n\\nRepayment of sales tax in relation to bad debt\\n\\n37. Where a refund of sales tax has been made under section 36 by the Director General to the person referred to in subsection 36(1)\\n\\n43\\n\\n44\\n\\nLaws of Malaysia', metadata={'id': '25_2_SalesTaxAct2018_Malaysia.pdf_42', 'type': 'text', 'filename': '2_SalesTaxAct2018_Malaysia.pdf', 'page_number': 42}), Document(page_content='Sales Tax\\n\\nApplication for registration\\n\\n13. (1) Any manufacturer who is liable to be registered under section 12 shall apply to the Director General for registration as a registered manufacturer in the prescribed form not later than the last day of the month following the month in which he is liable to be registered as referred to in paragraph 12(2)(a) or (b).\\n\\n(2) Upon receipt of the application under subsection (1), the Director General may approve the registration, subject to such conditions as he deems fit.\\n\\n(3) The Director General shall register the manufacturer under subsection (1) with effect from the first day of the month following the month in which the application under subsection (1) is made or from such earlier date as may be agreed between the Director General and the manufacturer but such date shall not be earlier than the date he becomes liable to be registered.\\n\\n(4) Where any manufacturer fails to comply with subsection (1), the Director General shall register the manufacturer on the date as the Director General may determine but not earlier than the date he is liable to be registered under section 12.\\n\\n(5) Any manufacturer who fails to comply with subsection (1) commits an offence.\\n\\nVoluntary registration\\n\\n14. (1) Any manufacturer who is not liable to be registered under section 12 may apply to the Director General for registration as a registered manufacturer.\\n\\n(2) Upon receipt of the application under subsection (1), the Director General may approve the registration from such date as he may determine subject to such conditions as he deems fit.\\n\\nDirection to treat persons as single taxable person\\n\\n15. (1) Notwithstanding section 12, where the Director General is satisfied that any separation of business activities is artificial, he may make a direction requiring that—\\n\\n(a) the persons named in that direction be treated as a single taxable person carrying on business activities described\\n\\n21\\n\\n22 Laws of Malaysia', metadata={'id': '12_2_SalesTaxAct2018_Malaysia.pdf_21', 'type': 'text', 'filename': '2_SalesTaxAct2018_Malaysia.pdf', 'page_number': 21}), Document(page_content='ACT 806\\n\\nChief Statistician of the Department of Statistics Malaysia which may be required in the performance of his official duty.\\n\\n(5) Notwithstanding subsection (4), the Minister may, as he deems fit, allow the Director General to transmit or communicate any document, information, return or declaration referred to in subsection (1) or anything contained therein to any other person.\\n\\nPART III\\n\\nIMPOSITION AND SCOPE OF SALES TAX\\n\\nImposition and scope of sales tax\\n\\n8. (1) A tax to be known as sales tax shall be charged and levied on all taxable goods—\\n\\n(a) manufactured in Malaysia by a registered manufacturer and sold, used or disposed of by him; or\\n\\n(b) imported into Malaysia by any person.\\n\\n(2) Sales tax on any importation of taxable goods into Malaysia shall be levied and payable as if it were a customs duty or an excise duty and as if the imported taxable goods are dutiable and liable to customs duty or excise duty.\\n\\n(3) This Act shall be construed as one with the Customs Act 1967 and the Excise Act 1976 [Act 176] with regards to the importation or exportation of goods including goods in transit and the movement of goods under customs control or excise control.\\n\\n(4) Where there is any inconsistency between the provisions of the Customs Act 1967 or the Excise Act 1976 and the provisions of this Act, the provisions of this Act shall prevail.\\n\\nDetermination of sale value of taxable goods\\n\\n9. (1) In the case of taxable goods—\\n\\n(a) sold by a taxable person; or\\n\\nSales Tax\\n\\n(b) manufactured by a taxable person and—\\n\\n(i) used by him otherwise than as materials in the manufacture of the taxable goods; or\\n\\n(ii) disposed of by him otherwise than by sale,\\n\\nthe sale value of such taxable goods shall be determined in accordance with the regulations made under this Act.\\n\\n(2) In the case of taxable goods imported into Malaysia, the sale value of the taxable goods shall be the sum of the following amounts:\\n\\n(a) the value of such taxable goods for the purpose of customs duty as determined in accordance with the Customs Act 1967;\\n\\n(b) the amount of customs duty, if any, paid or to be paid on such taxable goods; and\\n\\n(c) the amount of excise duty, if any, paid or to be paid on such taxable goods.\\n\\n(3) Where any registered manufacturer receives taxable goods from any person to be manufactured and subsequently returns the goods so manufactured to such person, the sale value of the goods so manufactured shall, subject to approval of the Director General, be the amount that the manufacturer charges for work performed by him.', metadata={'id': '9_2_SalesTaxAct2018_Malaysia.pdf_16', 'type': 'text', 'filename': '2_SalesTaxAct2018_Malaysia.pdf', 'page_number': 16}), Document(page_content='Sales Tax\\n\\n(2) Notwithstanding subsection (1)—\\n\\n(a) the Minister may determine different time for sales tax to be due in respect of petroleum subject to such conditions as the Minister deems fit; and\\n\\n(b) where any sale of taxable goods is made by any person, who is a taxable person under this Act, within the period beginning from 1 June 2018 and ending immediately before the effective date, and the taxable goods are delivered on or after the effective date—\\n\\n(i) the sale of such taxable goods shall be deemed to have been made on the date such taxable goods are delivered notwithstanding any payment, wholly or partly, is received or invoice is issued, for such taxable goods during such period;\\n\\n(ii) any payment received within such period or on or after the effective date, or invoice issued within such period, shall be deemed to have been received or issued on the date such taxable goods are delivered; and\\n\\n(iii) sales tax shall be charged and levied on such taxable goods and shall become due on the date such taxable goods are delivered.\\n\\n(3) Where the taxable goods referred to in subparagraph (2)(b) are petroleum, the sales tax in respect of such petroleum shall be due at the time as determined under subparagraph (2)(a).\\n\\n(4) Where any registered manufacturer who ceases to carry on business as a manufacturer is succeeded in such business by another person who—\\n\\n(a) purchases from the registered manufacturer any stock of taxable goods which is on hand at the date of cessation; or\\n\\n(b) acquires any stock of taxable goods as a trustee, receiver, liquidator, donee, or beneficiary of such registered manufacturer,\\n\\nno sales tax shall be due on such purchase or acquisition.\\n\\n19\\n\\n20\\n\\nLaws of Malaysia\\n\\nACT 806\\n\\nPART IV\\n\\nREGISTRATION\\n\\nLiability to be registered\\n\\n12. (1) The Minister may, by order published in the Gazette, determine the total sale value of taxable goods for the purpose of registration of any manufacturer under this Part.\\n\\n(2) Subject to subsection (3), any manufacturer of taxable goods is liable to be registered at the following time, whichever is the earlier:\\n\\n(a) at the end of any month, where the total sale value of all his taxable goods in that month and the eleven months immediately preceding that month has exceeded the total sale value of taxable goods determined under subsection (1); or\\n\\n(b) at the end of any month, where there are reasonable grounds for believing that the total sale value of all his taxable goods in that month and the eleven months immediately succeeding that month will exceed the total sale value of taxable goods determined under subsection (1).\\n\\n(3) The total sale value of all taxable goods of a manufacturer in the month and the eleven months immediately preceding that month referred to in paragraph (2)(a) shall be disregarded if—\\n\\n(a) the registration of the manufacturer is cancelled, otherwise than under subsection 19(3), during that period; and\\n\\n(b) the Director General is satisfied that before the manufacturer’s registration is cancelled, he has given all information required by the Director General in order to determine whether to cancel the registration or not.\\n\\n(4) Where any person succeeds any business from a registered manufacturer as specified in subsection 11(4), such person shall be deemed to be a manufacturer who is liable to be registered on the date he succeeded the business.', metadata={'id': '11_2_SalesTaxAct2018_Malaysia.pdf_19', 'type': 'text', 'filename': '2_SalesTaxAct2018_Malaysia.pdf', 'page_number': 19}), Document(page_content='ACT 806\\n\\n(d) the recovery of the amount due or other charges which may be due in respect of selling off such goods,\\n\\nand the surplus, if any, shall be paid to the person, and if the person cannot be found within one month of the sale, such surplus shall be paid into the Consolidated Fund.\\n\\n(7) If at the sale of any goods seized under subsection (4) no sufficient bid is forthcoming to defray the sales tax, surcharge, penalty, fee or other money payable or the deficient sales tax, surcharge, penalty, fee or other money payable or the refund erroneously paid, as the case may be, the goods shall be forfeited to the Government and shall be disposed of in such manner as the Director General may direct.\\n\\n(8) Every auction sales of any goods seized under subsection (4) shall be conducted by or in the presence of a senior officer of sales tax.\\n\\nRefund of sales tax, etc., overpaid or erroneously paid\\n\\n39. (1) Any person who—\\n\\n(a) has overpaid or erroneously paid any sales tax, surcharge, penalty, fee or other money; or\\n\\n(b) is entitled to the refund under subsection 35(6) or 41(3),\\n\\nmay make a claim for refund in the prescribed form.\\n\\n(2) A claim for refund under subsection (1) shall be made to the Director General within one year from the time—\\n\\n(a) such overpayment or erroneous payment occurred; or\\n\\n(b) such entitlement of the refund under subsection 35(6) or 41(3) occurred.\\n\\n(3) The Director General may make such refund in respect of the claim under subsection (1) after being satisfied that the person has properly established the claim.\\n\\nSales Tax\\n\\n(4) The Director General may reduce or disallow any refund due in respect of the claim under subsection (1) to the extent that the refund would unjustly enrich the person referred to in subsection (1).\\n\\n(5) A claim for refund under this section shall be supported by such evidence as required by the Director General.\\n\\nDrawback\\n\\n40. (1) The Director General may allow drawback of the full amount of sales tax paid by a person in respect of taxable goods which are subsequently exported by the person from Malaysia subject to the regulations made under this Act.\\n\\n(2) This section shall not apply to petroleum.', metadata={'id': '27_2_SalesTaxAct2018_Malaysia.pdf_46', 'type': 'text', 'filename': '2_SalesTaxAct2018_Malaysia.pdf', 'page_number': 46})]\n"
     ]
    },
    {
     "data": {
      "application/vnd.jupyter.widget-view+json": {
       "model_id": "e9661f89a19e410098322c95362bf347",
       "version_major": 2,
       "version_minor": 0
      },
      "text/plain": [
       "Groundedness per statement in source:   0%|          | 0/21 [00:00<?, ?it/s]"
      ]
     },
     "metadata": {},
     "output_type": "display_data"
    },
    {
     "name": "stdout",
     "output_type": "stream",
     "text": [
      "[Document(page_content='Cyber innovation\\n\\nBy supporting advanced research, fostering digital innovation, and developing cyber skills and knowledge, the federal government will position Canada as a global leader in cyber security.\\n\\nLeadership and Collaboration\\n\\nThe federal government, in close collaboration with provinces, territories, and the private sector, will take a leadership role to advance cyber security in Canada and will, in coordination with allies, work to shape the international cyber security environment in Canada’s favour.\\n\\n3 of 35 • NATiONAL CYBER SECURiTY STRATEGY\\n\\n¢\\n\\nExecutive Summary \\n\\nIn a dynamic cyber security environment, the Government of Canada’s\\n\\napproach will be rooted in a sustained commitment to:\\n\\n• Protect the safety and security of Canadians and our critical infrastructure\\n\\n• Promote and protect rights and freedoms online\\n\\nEncourage cyber security for business, economic growth, and prosperity\\n\\n• Collaborate and support coordination across jurisdictions and sectors to strengthen Canada’s cyber resilience\\n\\nProactively adapt to changes in the cyber security landscape and the\\n\\nemergence of new technology\\n\\nScope of the Strategy\\n\\nThe scope of this Strategy starts with the work that the Government of Canada is already undertaking. This includes ongoing and future efforts to protect Government of Canada systems, to extend our network of partnerships to help protect critical infrastructure, and to help Canadians to be safe online. In a more diverse and dynamic global cyber security landscape, however, Canada’s new approach will be more extensive and inclusive. This document outlines the key elements of the global cyber security environment and articulates some of the ways that the Government of Canada will respond to an array of new challenges and opportunities in cyberspace.\\n\\n4 of 35 • NATiONAL CYBER SECURiTY STRATEGY\\n\\n¢\\n\\nExecutive Summary \\n\\nImplementing the Strategy\\n\\nRecognizing that the pace of change we see today will only accelerate, this Strategy is designed as the mainstay of the Government’s continuous efforts to enhance cyber security in Canada. The Government’s actions will evolve alongside the ground-breaking technological developments and resulting paradigm shifts that have become common in our connected world.\\n\\nCyber security action plans will supplement this Strategy. These will detail the specific initiatives that the federal government will undertake over time, with clear performance metrics and a commitment to report on results achieved. They will also outline the Government’s plan for working with internal and external partners to achieve its vision.\\n\\nThe implementation of this Strategy will align with other cyber-related Government of Canada initiatives. These include: the Minister of Democratic Institutions’ mandate to defend the electoral process from cyber threats; cyber foreign policy in Canada’s international agenda; the Canadian military’s use of cyber; and the Innovation and Skills Plan.\\n\\n5 of 35 • NATiONAL CYBER SECURiTY STRATEGY\\n\\n¢\\n\\nCanada’s Cyber Security Strategy 2010 \\n\\nThe Government of Canada’s first Cyber Security Strategy allocated $431.5 million over ten years, with three pillars of action and wide- ranging accomplishments:', metadata={'id': '4_3_Canada_Cybersec_Strategy.pdf_8', 'type': 'text', 'filename': '3_Canada_Cybersec_Strategy.pdf', 'page_number': 8}), Document(page_content='Budget 2017.\\n\\nThe federal government will make smart investments in cyber security, while also advocating for its partners in the private sector and in other jurisdictions to do the same. Private sector organizations in Canada have world-class cyber security capabilities that can be leveraged to benefit all sectors of the Canadian economy. There are also great ideas and strong leadership in our schools and our post-secondary institutions that will be instrumental in shaping the future of cyber security in Canada.\\n\\nThe Government will work to bridge Canada-wide efforts to develop cyber skills, advance new solutions, and strengthen cyber security. We will be an example to the world of what can be achieved through a cohesive and coherent National Cyber Security Strategy.\\n\\norganizations to develop further.\\n\\n29 of 35 • NATiONAL CYBER SECURiTY STRATEGY\\n\\nAbout the Cyber Security Review \\n\\nPublic Consultation on Cyber Security\\n\\nWhat We Heard\\n\\n“The Government of Canada can provide much needed leadership by creating, adopting and modeling best practices for cyber security, and making efforts to transfer this knowledge to the private sector”\\n\\n“[There is a] need for more centralized governance and strategic planning … for modern legislation and regulations, and leadership in identifying, prioritizing, endorsing and disseminating the latest international standards of cyber security technology”\\n\\n“Collectively, we need to create an effective framework for cyber security governance, spanning principles, roles, and responsibilities within the government and across the public and private sectors”\\n\\n30 of 35 • NATiONAL CYBER SECURiTY STRATEGY\\n\\nCyber Security Strategy Goals \\n\\nEffective Leadership, Governance, and Collaboration\\n\\nThe federal government, in close collaboration with provinces, territories, and the private sector, will take a leadership role to advance cyber security in Canada and will, in coordination with allies, work to shape the international cyber security environment in Canada’s favour.\\n\\nResponding to calls for decisive federal leadership, the Government of Canada will streamline the way it works and collaborates with external partners and stakeholders by establishing a clear focal point for authoritative advice, guidance, and cyber incident response. This approach will improve information sharing and make it easier for the private sector to obtain the support it needs.\\n\\nThe Government of Canada will reinvigorate public awareness and engagement efforts and establish new forums for collaboration. The federal government will work in consultation with a cross-section of Canadian stakeholders to ensure that we collectively enhance cyber security in Canada.\\n\\nThe federal government will lead, in partnership with provinces, territories, and the private sector, the development of a national plan to prevent, mitigate and respond to cyber incidents, one that ensures efficient coordination and effective action.\\n\\n31 of 35 • NATiONAL CYBER SECURiTY STRATEGY\\n\\nCyber Security Strategy Goals \\n\\nThe Government of Canada will work with its international partners to advance Canadian interests. This includes advocating for an open, free, and secure internet and enhancing our international cooperation to', metadata={'id': '18_3_Canada_Cybersec_Strategy.pdf_34', 'type': 'text', 'filename': '3_Canada_Cybersec_Strategy.pdf', 'page_number': 34}), Document(page_content='use of digital technology.\\n\\nAs the cyber security environment continues to evolve, there is a constant need for reliable and up-to-date information. Canadian statistics and research in the area of cyber security will provide a more accurate view of the cyber issues our nation faces in a global context. This information can be used by academics, researchers, and policy makers to understand trends, manage risk, inform future investments, and adjust course when appropriate.\\n\\n22 of 35 • NATiONAL CYBER SECURiTY STRATEGY\\n\\noe\\n\\nee\\n\\nAbout the Cyber Security Review \\n\\nPublic Consultation on Cyber Security\\n\\nWhat We Heard\\n\\n“We must work to ensure that start-ups and innovation born in Canada stay\\n\\nin Canada”\\n\\n“The federal government can play a unique role in ensuring businesses see\\n\\nCanada as a location where they can thrive in a cyber safe environment”\\n\\n“Few appreciate the strategic relevance of cyber security intelligence. You can’t\\n\\nmanage what you don’t measure”\\n\\n23 of 35 • NATiONAL CYBER SECURiTY STRATEGY\\n\\nCyber Security Strategy Goals \\n\\nAn Innovative and Adaptive Cyber Ecosystem\\n\\nBy supporting advanced research, fostering digital innovation, and developing cyber skills and knowledge, the federal government will position Canada as a global leader in cyber security.\\n\\nThe Government of Canada will work with partners to drive investment and foster cyber research and development. The Government will focus on emerging areas of Canadian excellence, such as quantum computing and blockchain technologies. The federal government is already making progress in this regard, with Budget 2017 announcing the creation of a Pan- Canadian Artificial Intelligence Strategy for research and talent.\\n\\nTogether, we will explore initiatives to ensure that Canadian companies can bring their products to a global market. The Government will explore initiatives to drive domestic demand for cyber security technologies and services.\\n\\nThe Government of Canada will explore new ideas for making businesses and Canadians of all ages and backgrounds more cyber secure. The federal government has already committed investments to improve digital skills,\\n\\nsuch as coding education for kids.\\n\\nWorking together across governments, academia, and the private sector is necessary to address the cyber skills gap. Taking action now will allow us to build the labour force of the future, one that will help to support Canadian cyber security and that will contribute to Canada’s future prosperity.\\n\\n24 of 35 • NATiONAL CYBER SECURiTY STRATEGY\\n\\nCyber Security Strategy Goals \\n\\nThe quality of information at our disposal shapes our ability to understand cyber trends. The federal government will support Canadian research and statistics efforts to improve our collective understanding of cyber threats', metadata={'id': '15_3_Canada_Cybersec_Strategy.pdf_27', 'type': 'text', 'filename': '3_Canada_Cybersec_Strategy.pdf', 'page_number': 27}), Document(page_content='Public Consultation on Cyber Security\\n\\nWhat We Heard\\n\\n“The #1 cyber challenge for Canada is that there are an increasing number of incidents that are causing harm to the economy and society, ranging from breaches, crimes, disruption of essential services, and destruction of corporate and country assets”\\n\\n“Privacy and security are not a zero-sum game and we can have both. There is no security without privacy. And liberty requires both security\\n\\nand privacy”\\n\\n“Canadian law enforcement should centralize their cybercrime resources… A single window centre will make it easier for businesses to know who to call when their systems have been compromised, and will help law enforcement investigate and respond to cybercrime across jurisdictions”\\n\\n16 of 35 • NATiONAL CYBER SECURiTY STRATEGY\\n\\nCyber Security Strategy Goals \\n\\nSecure and Resilient Canadian Systems\\n\\nThrough collaborative action with partners and enhanced cyber security capabilities, we will better protect Canadians from cybercrime, respond to evolving threats, and defend critical government and private sector systems.\\n\\nThe Government of Canada will maintain and improve cyber security across all federal departments and agencies to protect the privacy of Canadians’ information held by the federal government and the confidentiality, integrity, and availability of critical services for Canadians.\\n\\nThe Government of Canada will enhance law enforcement capacity to respond to cybercrime. It will support coordination across law enforcement agencies and with federal, provincial, territorial, and international partners. The Government will enhance cybercrime investigative capacity and make it easier for Canadians to report cybercrime.\\n\\nSmall and medium organizations often lack the knowledge and resources to implement cyber security regimes, even if doing so would offer a competitive advantage. The Government of Canada will help support these organizations — making cyber security more accessible.\\n\\nIn response to cyber threats of increasing sophistication, the Government of Canada will consider how its advanced cyber capabilities could be applied to defend critical networks in Canada and deter foreign cyber', metadata={'id': '11_3_Canada_Cybersec_Strategy.pdf_21', 'type': 'text', 'filename': '3_Canada_Cybersec_Strategy.pdf', 'page_number': 21}), Document(page_content='threat actors.\\n\\n17 of 35 • NATiONAL CYBER SECURiTY STRATEGY\\n\\nCyber Security Strategy Goals \\n\\nSome cyber systems — such as electricity grids, communications networks, or financial institutions — are so important that any disruption could have serious consequences for public safety and national security. The federal government will work with provinces, territories, and the private sector to help define requirements to protect this digital infrastructure.\\n\\n18 of 35 • NATiONAL CYBER SECURiTY STRATEGY\\n\\nCyber Innovation \\n\\nStrategic Context: Expanding Frontiers of Cyber Security\\n\\nDigital innovation has become the engine of economic growth in the 21st century. Cyber security is not only essential for protecting the sources of Canada’s digital innovation — it has become a source of innovation in its\\n\\nCYBER SECURITY SNAPSHOT: SKILLS FOR THE DIGITAL AGE\\n\\nMarc is looking for possible summer camps for his daughters. He wants to find something that allows them to try something different while developing new skills. In his search, he comes across a summer program designed to help children develop basic coding skills, which would give them the tools they need to build websites and develop their own programs. With Marc’s encouragement they register for the camp, opening the door to a new hobby and an exciting skillset.\\n\\nown right.\\n\\nNew Horizons of Technology and Business Development\\n\\nCyber security is increasingly driving innovation and economic activity in Canada. It already contributes $1.7 billion to Canada’s GDP and consists of over 11,000 well-paying jobs.1 With the global cyber security industry forecasted to grow by 66% by 2021, thousands of additional jobs could\\n\\n1 International Data Corporation (IDC) Canada , “2016 Canadian ICT Predictions and Forecast: Digital Transformation and Disruption,” December 2015 Information and Communications Technology Council (ICTC), “Critical Infrastructure in a Hyperconnected Economy,” August 2016.\\n\\n19 of 35 • NATiONAL CYBER SECURiTY STRATEGY', metadata={'id': '12_3_Canada_Cybersec_Strategy.pdf_22', 'type': 'text', 'filename': '3_Canada_Cybersec_Strategy.pdf', 'page_number': 22})]\n"
     ]
    },
    {
     "data": {
      "application/vnd.jupyter.widget-view+json": {
       "model_id": "867873975f2c46e38308825ba82e5bc4",
       "version_major": 2,
       "version_minor": 0
      },
      "text/plain": [
       "Groundedness per statement in source:   0%|          | 0/4 [00:00<?, ?it/s]"
      ]
     },
     "metadata": {},
     "output_type": "display_data"
    },
    {
     "name": "stdout",
     "output_type": "stream",
     "text": [
      "[Document(page_content='Cyber Innovation\\n\\nbe created for Canadians in the years ahead.2 Governments, academia, and members of the private sector can work together to create new opportunities, drive investment, and foster leading-edge research\\n\\nand development.\\n\\nCanada is already a leader in cyber security research and development. Breakthroughs in cyber security research are not only beneficial for Canadian cyber security firms, but for the economy as a whole. Government has a role to play to support advanced research and to help innovative companies scale up to bring cyber security technologies and services to the global marketplace.\\n\\nCYBER SECURITY SNAPSHOT: STREAMLINING SERVICE DELIVERY\\n\\nStuart was relieved when he found out that he could access his Canada Pension Plan (CPP) account online without having to remember another password. All he has to do is go to the CPP log-in page, click on the logo for his bank, and enter his information. He uses the same username and password as he does for his online banking, since his bank is a sign-in partner for the Government of Canada’s online services. He really likes the convenience, and since he trusts his bank’s security measures, he knows his information is protected. As his son David keeps telling him, his banking information will be safer as long as he uses a secure Wi-Fi — like his password-protected network at home. Apparently, hackers can intercept traffic over unsecured Wi-Fi, like in a coffee shop\\n\\nBuilding on the Benefits of Digital Technology\\n\\nCanada’s participation in digital life has generated immense prosperity and benefits, and has opened a new gateway to the world. Governments, businesses and other organizations play a central role in protecting these benefits by establishing strong security for their online platforms, products,\\n\\nand services.\\n\\nCyber security is only as strong as its weakest link. Small and medium enterprises — and indeed many organizations in Canada — face similar challenges securing their systems and networks as their much larger counterparts, but must do so with less expertise and fewer resources. Governments can help correct this asymmetry by providing advice and guidance and enhancing access to cyber security information and tools.', metadata={'id': '13_3_Canada_Cybersec_Strategy.pdf_25', 'type': 'text', 'filename': '3_Canada_Cybersec_Strategy.pdf', 'page_number': 25}), Document(page_content='use of digital technology.\\n\\nAs the cyber security environment continues to evolve, there is a constant need for reliable and up-to-date information. Canadian statistics and research in the area of cyber security will provide a more accurate view of the cyber issues our nation faces in a global context. This information can be used by academics, researchers, and policy makers to understand trends, manage risk, inform future investments, and adjust course when appropriate.\\n\\n22 of 35 • NATiONAL CYBER SECURiTY STRATEGY\\n\\noe\\n\\nee\\n\\nAbout the Cyber Security Review \\n\\nPublic Consultation on Cyber Security\\n\\nWhat We Heard\\n\\n“We must work to ensure that start-ups and innovation born in Canada stay\\n\\nin Canada”\\n\\n“The federal government can play a unique role in ensuring businesses see\\n\\nCanada as a location where they can thrive in a cyber safe environment”\\n\\n“Few appreciate the strategic relevance of cyber security intelligence. You can’t\\n\\nmanage what you don’t measure”\\n\\n23 of 35 • NATiONAL CYBER SECURiTY STRATEGY\\n\\nCyber Security Strategy Goals \\n\\nAn Innovative and Adaptive Cyber Ecosystem\\n\\nBy supporting advanced research, fostering digital innovation, and developing cyber skills and knowledge, the federal government will position Canada as a global leader in cyber security.\\n\\nThe Government of Canada will work with partners to drive investment and foster cyber research and development. The Government will focus on emerging areas of Canadian excellence, such as quantum computing and blockchain technologies. The federal government is already making progress in this regard, with Budget 2017 announcing the creation of a Pan- Canadian Artificial Intelligence Strategy for research and talent.\\n\\nTogether, we will explore initiatives to ensure that Canadian companies can bring their products to a global market. The Government will explore initiatives to drive domestic demand for cyber security technologies and services.\\n\\nThe Government of Canada will explore new ideas for making businesses and Canadians of all ages and backgrounds more cyber secure. The federal government has already committed investments to improve digital skills,\\n\\nsuch as coding education for kids.\\n\\nWorking together across governments, academia, and the private sector is necessary to address the cyber skills gap. Taking action now will allow us to build the labour force of the future, one that will help to support Canadian cyber security and that will contribute to Canada’s future prosperity.\\n\\n24 of 35 • NATiONAL CYBER SECURiTY STRATEGY\\n\\nCyber Security Strategy Goals \\n\\nThe quality of information at our disposal shapes our ability to understand cyber trends. The federal government will support Canadian research and statistics efforts to improve our collective understanding of cyber threats', metadata={'id': '15_3_Canada_Cybersec_Strategy.pdf_27', 'type': 'text', 'filename': '3_Canada_Cybersec_Strategy.pdf', 'page_number': 27}), Document(page_content='Budget 2017.\\n\\nThe federal government will make smart investments in cyber security, while also advocating for its partners in the private sector and in other jurisdictions to do the same. Private sector organizations in Canada have world-class cyber security capabilities that can be leveraged to benefit all sectors of the Canadian economy. There are also great ideas and strong leadership in our schools and our post-secondary institutions that will be instrumental in shaping the future of cyber security in Canada.\\n\\nThe Government will work to bridge Canada-wide efforts to develop cyber skills, advance new solutions, and strengthen cyber security. We will be an example to the world of what can be achieved through a cohesive and coherent National Cyber Security Strategy.\\n\\norganizations to develop further.\\n\\n29 of 35 • NATiONAL CYBER SECURiTY STRATEGY\\n\\nAbout the Cyber Security Review \\n\\nPublic Consultation on Cyber Security\\n\\nWhat We Heard\\n\\n“The Government of Canada can provide much needed leadership by creating, adopting and modeling best practices for cyber security, and making efforts to transfer this knowledge to the private sector”\\n\\n“[There is a] need for more centralized governance and strategic planning … for modern legislation and regulations, and leadership in identifying, prioritizing, endorsing and disseminating the latest international standards of cyber security technology”\\n\\n“Collectively, we need to create an effective framework for cyber security governance, spanning principles, roles, and responsibilities within the government and across the public and private sectors”\\n\\n30 of 35 • NATiONAL CYBER SECURiTY STRATEGY\\n\\nCyber Security Strategy Goals \\n\\nEffective Leadership, Governance, and Collaboration\\n\\nThe federal government, in close collaboration with provinces, territories, and the private sector, will take a leadership role to advance cyber security in Canada and will, in coordination with allies, work to shape the international cyber security environment in Canada’s favour.\\n\\nResponding to calls for decisive federal leadership, the Government of Canada will streamline the way it works and collaborates with external partners and stakeholders by establishing a clear focal point for authoritative advice, guidance, and cyber incident response. This approach will improve information sharing and make it easier for the private sector to obtain the support it needs.\\n\\nThe Government of Canada will reinvigorate public awareness and engagement efforts and establish new forums for collaboration. The federal government will work in consultation with a cross-section of Canadian stakeholders to ensure that we collectively enhance cyber security in Canada.\\n\\nThe federal government will lead, in partnership with provinces, territories, and the private sector, the development of a national plan to prevent, mitigate and respond to cyber incidents, one that ensures efficient coordination and effective action.\\n\\n31 of 35 • NATiONAL CYBER SECURiTY STRATEGY\\n\\nCyber Security Strategy Goals \\n\\nThe Government of Canada will work with its international partners to advance Canadian interests. This includes advocating for an open, free, and secure internet and enhancing our international cooperation to', metadata={'id': '18_3_Canada_Cybersec_Strategy.pdf_34', 'type': 'text', 'filename': '3_Canada_Cybersec_Strategy.pdf', 'page_number': 34}), Document(page_content='Public Consultation on Cyber Security\\n\\nWhat We Heard\\n\\n“The #1 cyber challenge for Canada is that there are an increasing number of incidents that are causing harm to the economy and society, ranging from breaches, crimes, disruption of essential services, and destruction of corporate and country assets”\\n\\n“Privacy and security are not a zero-sum game and we can have both. There is no security without privacy. And liberty requires both security\\n\\nand privacy”\\n\\n“Canadian law enforcement should centralize their cybercrime resources… A single window centre will make it easier for businesses to know who to call when their systems have been compromised, and will help law enforcement investigate and respond to cybercrime across jurisdictions”\\n\\n16 of 35 • NATiONAL CYBER SECURiTY STRATEGY\\n\\nCyber Security Strategy Goals \\n\\nSecure and Resilient Canadian Systems\\n\\nThrough collaborative action with partners and enhanced cyber security capabilities, we will better protect Canadians from cybercrime, respond to evolving threats, and defend critical government and private sector systems.\\n\\nThe Government of Canada will maintain and improve cyber security across all federal departments and agencies to protect the privacy of Canadians’ information held by the federal government and the confidentiality, integrity, and availability of critical services for Canadians.\\n\\nThe Government of Canada will enhance law enforcement capacity to respond to cybercrime. It will support coordination across law enforcement agencies and with federal, provincial, territorial, and international partners. The Government will enhance cybercrime investigative capacity and make it easier for Canadians to report cybercrime.\\n\\nSmall and medium organizations often lack the knowledge and resources to implement cyber security regimes, even if doing so would offer a competitive advantage. The Government of Canada will help support these organizations — making cyber security more accessible.\\n\\nIn response to cyber threats of increasing sophistication, the Government of Canada will consider how its advanced cyber capabilities could be applied to defend critical networks in Canada and deter foreign cyber', metadata={'id': '11_3_Canada_Cybersec_Strategy.pdf_21', 'type': 'text', 'filename': '3_Canada_Cybersec_Strategy.pdf', 'page_number': 21}), Document(page_content='Cyber innovation\\n\\nBy supporting advanced research, fostering digital innovation, and developing cyber skills and knowledge, the federal government will position Canada as a global leader in cyber security.\\n\\nLeadership and Collaboration\\n\\nThe federal government, in close collaboration with provinces, territories, and the private sector, will take a leadership role to advance cyber security in Canada and will, in coordination with allies, work to shape the international cyber security environment in Canada’s favour.\\n\\n3 of 35 • NATiONAL CYBER SECURiTY STRATEGY\\n\\n¢\\n\\nExecutive Summary \\n\\nIn a dynamic cyber security environment, the Government of Canada’s\\n\\napproach will be rooted in a sustained commitment to:\\n\\n• Protect the safety and security of Canadians and our critical infrastructure\\n\\n• Promote and protect rights and freedoms online\\n\\nEncourage cyber security for business, economic growth, and prosperity\\n\\n• Collaborate and support coordination across jurisdictions and sectors to strengthen Canada’s cyber resilience\\n\\nProactively adapt to changes in the cyber security landscape and the\\n\\nemergence of new technology\\n\\nScope of the Strategy\\n\\nThe scope of this Strategy starts with the work that the Government of Canada is already undertaking. This includes ongoing and future efforts to protect Government of Canada systems, to extend our network of partnerships to help protect critical infrastructure, and to help Canadians to be safe online. In a more diverse and dynamic global cyber security landscape, however, Canada’s new approach will be more extensive and inclusive. This document outlines the key elements of the global cyber security environment and articulates some of the ways that the Government of Canada will respond to an array of new challenges and opportunities in cyberspace.\\n\\n4 of 35 • NATiONAL CYBER SECURiTY STRATEGY\\n\\n¢\\n\\nExecutive Summary \\n\\nImplementing the Strategy\\n\\nRecognizing that the pace of change we see today will only accelerate, this Strategy is designed as the mainstay of the Government’s continuous efforts to enhance cyber security in Canada. The Government’s actions will evolve alongside the ground-breaking technological developments and resulting paradigm shifts that have become common in our connected world.\\n\\nCyber security action plans will supplement this Strategy. These will detail the specific initiatives that the federal government will undertake over time, with clear performance metrics and a commitment to report on results achieved. They will also outline the Government’s plan for working with internal and external partners to achieve its vision.\\n\\nThe implementation of this Strategy will align with other cyber-related Government of Canada initiatives. These include: the Minister of Democratic Institutions’ mandate to defend the electoral process from cyber threats; cyber foreign policy in Canada’s international agenda; the Canadian military’s use of cyber; and the Innovation and Skills Plan.\\n\\n5 of 35 • NATiONAL CYBER SECURiTY STRATEGY\\n\\n¢\\n\\nCanada’s Cyber Security Strategy 2010 \\n\\nThe Government of Canada’s first Cyber Security Strategy allocated $431.5 million over ten years, with three pillars of action and wide- ranging accomplishments:', metadata={'id': '4_3_Canada_Cybersec_Strategy.pdf_8', 'type': 'text', 'filename': '3_Canada_Cybersec_Strategy.pdf', 'page_number': 8})]\n"
     ]
    },
    {
     "data": {
      "application/vnd.jupyter.widget-view+json": {
       "model_id": "672438fbcaa244bfad9657732fa85d7b",
       "version_major": 2,
       "version_minor": 0
      },
      "text/plain": [
       "Groundedness per statement in source:   0%|          | 0/18 [00:00<?, ?it/s]"
      ]
     },
     "metadata": {},
     "output_type": "display_data"
    },
    {
     "name": "stdout",
     "output_type": "stream",
     "text": [
      "[Document(page_content=\"In general, the Consent Building Block shall follow the authentication and authorisation requirements as laid out in the Govstack architecture. For clarity, Consent Building Block's API endpoints are invoked with a client-supplied API key which MUST defer to the Identification and Verification Building Block in order to verify the role and/or scope of the API key matches the API endpoint to which it is supplied. This is mentioned here, as this Definition is drafted without clear guidance in the OpenAPI spec for the handling of roles and scopes.\", metadata={'id': '381_9d5bbb77ba04f6dc5716ab8a7b451cb1_4_GovStack_Specs.docx_20.0', 'type': 'text', 'filename': '4_GovStack_Specs.docx', 'page_number': 20.0}), Document(page_content=\"In general, the Consent Building Block shall follow the authentication and authorisation requirements as laid out in the GovStack architecture. For clarity, Consent Building Block's API endpoints are invoked with a client-supplied API key which must defer to the Identification and Verification Building Block in order to verify the role and/or scope of the API key matches the API endpoint to which it is supplied. This is mentioned here, as this definition is drafted without clear guidance in the OpenAPI specification for the handling of roles and scopes.\", metadata={'id': '378_b627248ac3b3f7f6b0b44e0a45e3c5cf_4_GovStack_Specs.docx_20.0', 'type': 'text', 'filename': '4_GovStack_Specs.docx', 'page_number': 20.0}), Document(page_content='Lays out the pre-conditions needed for anyone to use the Consent Building Block.', metadata={'id': '292_69ef1ef347b53ec36f7947b538b31cff_4_GovStack_Specs.docx_15.0', 'type': 'text', 'filename': '4_GovStack_Specs.docx', 'page_number': 15.0}), Document(page_content='The Consent Building Block implements the key functionalities described in the consent management lifecycle. It includes the ability to configure consent agreements by an organisation admin, present consent requests towards individuals, capture consents, enable queries if consent exists, or not, and enable independent audit of consents.', metadata={'id': '331_None_4_GovStack_Specs.docx_18.0', 'type': 'text', 'filename': '4_GovStack_Specs.docx', 'page_number': 18.0}), Document(page_content=\"The Consent Building Block enables services for individuals to approve the use of their Personal Data by defining the principles, functions, and architecture of an information system. For organisations that process Personal Data\\u200b,\\u200b it provides the ability to know the \\u200bindividual's will and legitimately process such Personal Data. The Consent Building Block is a process-oriented GovStack Building Block facilitating auditable bilateral agreements within a multi-agent environment that integrates with most other Building Blocks.\", metadata={'id': '273_622a4f2f306ae9d3eee289d4327de15a_4_GovStack_Specs.docx_14.0', 'type': 'text', 'filename': '4_GovStack_Specs.docx', 'page_number': 14.0})]\n"
     ]
    },
    {
     "data": {
      "application/vnd.jupyter.widget-view+json": {
       "model_id": "f5a5bbc8980f46c582bf05ac80c47b2e",
       "version_major": 2,
       "version_minor": 0
      },
      "text/plain": [
       "Groundedness per statement in source:   0%|          | 0/15 [00:00<?, ?it/s]"
      ]
     },
     "metadata": {},
     "output_type": "display_data"
    },
    {
     "name": "stdout",
     "output_type": "stream",
     "text": [
      "[Document(page_content='Following is the first core set of key functionalities of the Consent Building Block. For potential future developments of the specification follow the work in progress at GovStack confluence page.', metadata={'id': '335_None_4_GovStack_Specs.docx_18.0', 'type': 'text', 'filename': '4_GovStack_Specs.docx', 'page_number': 18.0}), Document(page_content='The Consent Building Block implements the key functionalities described in the consent management lifecycle. It includes the ability to configure consent agreements by an organisation admin, present consent requests towards individuals, capture consents, enable queries if consent exists, or not, and enable independent audit of consents.', metadata={'id': '331_None_4_GovStack_Specs.docx_18.0', 'type': 'text', 'filename': '4_GovStack_Specs.docx', 'page_number': 18.0}), Document(page_content=\"The Consent Building Block enables services for individuals to approve the use of their Personal Data by defining the principles, functions, and architecture of an information system. For organisations that process Personal Data\\u200b,\\u200b it provides the ability to know the \\u200bindividual's will and legitimately process such Personal Data. The Consent Building Block is a process-oriented GovStack Building Block facilitating auditable bilateral agreements within a multi-agent environment that integrates with most other Building Blocks.\", metadata={'id': '273_622a4f2f306ae9d3eee289d4327de15a_4_GovStack_Specs.docx_14.0', 'type': 'text', 'filename': '4_GovStack_Specs.docx', 'page_number': 14.0}), Document(page_content='Building Block Relationship description Identity Building Block It is assumed the Consent Building Block has already obtained requisite access tokens. Workflow Building Block Manages the workflow and rules associated with requiring or not requiring consent to use Personal Data. Scheduler Building Block Provides an engine for time-based triggers to various events of an automated business process, which might also require consent. Information Mediator Building Block The information mediator Building Block provides a gateway for exchanging data related to consenting workflows; it also provides logs for auditing purposes.', metadata={'id': '323_7ec15f7b9028f5bc498ea1fe1cc4e36b_4_GovStack_Specs.docx_17.0', 'type': 'text', 'filename': '4_GovStack_Specs.docx', 'page_number': 17.0}), Document(page_content='The functionalities are derived from the consent agreement lifecycle and categorised according to the Actors described above. While the consenting workflows (as described above) are implicitly considered the centrepiece of the Consent Building Block, it is important to realise that the integrity of consent management can only be achieved if robust configuration before and auditing after the Consent Agreement signing and Consent Record verification activities are in place. Hence, the functionalities are described following the logical sequence of the consent agreement lifecycle and they are all equally important components of the Consent Building Block.', metadata={'id': '332_None_4_GovStack_Specs.docx_18.0', 'type': 'text', 'filename': '4_GovStack_Specs.docx', 'page_number': 18.0})]\n"
     ]
    },
    {
     "data": {
      "application/vnd.jupyter.widget-view+json": {
       "model_id": "03435852c9854ff2a980f8201fc6b9b3",
       "version_major": 2,
       "version_minor": 0
      },
      "text/plain": [
       "Groundedness per statement in source:   0%|          | 0/24 [00:00<?, ?it/s]"
      ]
     },
     "metadata": {},
     "output_type": "display_data"
    },
    {
     "name": "stdout",
     "output_type": "stream",
     "text": [
      "[Document(page_content=\"Part 2 Key Findings\\n\\nKey Finding 1\\n\\nNGOs in International Geneva are targeted by cyberattacks.\\n\\n• 41% of NGOs report having been victim of a cyberattack within the past three years.\\n\\n• All NGOs that have experienced attacks report that these were not isolated events. The frequency of these incidents varies, with some NGOs facing incidents on a daily basis and others encountering them on a monthly or annual basis.\\n\\n• 70% of NGOs either don’t think, or aren't sure whether, they have an adequate level of resilience to recover from a disruptive cyberattack.\\n\\nKey Finding 2\\n\\nNGOs in International Geneva understand their exposure to cyber risks, but lack the support needed to implement mature cybersecurity strategies.\\n\\n• NGOs, unlike entities recognized as critical infrastructure, lack specific designation as a sector for particular protections in cyberspace.\\n\\n• Funding for NGOs is generally earmarked for specific projects, often leaving cybersecurity without dedicated financial support.\\n\\n• 33% of NGOs report having no Information Technology (IT) support or technical expertise, and 56% of NGOs report not having a budget allocated for their cybersecurity needs.\\n\\n• While NGOs generally recognize a variety of potential threats, such as social engineering, ransomware, and other malware, only 4% have an actionable cybersecurity policy.\\n\\n• 85% of NGOs recognize the importance of staff awareness in cybersecurity, yet only 52% provide regular cybersecurity awareness training to their personnel.\\n\\n10\\n\\nCyberPeace Institute | 2023\\n\\nKey Finding 3\\n\\nNGOs in International Geneva face challenges reconciling their operational models with the rapidly changing operational landscape and the needs for cybersecurity.\\n\\n• NGOs are confronted with a rapidly changing landscape of regulation, norms and laws related to the use of technology and obligations in the event of cyberattacks. For instance, data protection obligations in the case of a data breach.\\n\\n• Freely available cybersecurity tools accessible to NGOs are not tailored to their specific operating and business models. Access to and awareness of these tools alone does not equate to sustainable cybersecurity.\\n\\n• NGOs require more than tools and knowledge, they also require a cybersecurity workforce (people and skills).\\n\\nWhilst NGOs have much more progress to make in their cybersecurity capabilities and capacities, acknowledging the very real threats posed to them and developing cybersecurity practices suggests concrete actions can be taken, paving the way for a more optimistic future.\\n\\n11\\n\\nOs eace Poco\", metadata={'id': '7_5_CyberPeace_Report.pdf_10', 'type': 'text', 'filename': '5_CyberPeace_Report.pdf', 'page_number': 10}), Document(page_content='At the heart of the Institute’s efforts is the recognition that cyberspace is about people. It supports providers of essential services to the most vulnerable members of society, ultimately benefiting us all.\\n\\n7\\n\\nCyberPeace Analytical Report\\n\\nWhy this Analysis? From Data to Action\\n\\nThe aim of this analysis project is to increase understanding of the cyber threat landscape affecting NGOs and aims to provide actionable recommendations.\\n\\nThese recommendations address the following areas:\\n\\n1. How NGOs can better defend and protect themselves from cyberattacks and their associated impact and harm. A separate technical report is also provided to NGOs with more specificities on technical findings from this project.\\n\\n2. How donors, policymakers, and companies can contribute to safeguarding NGOs in the face of cyber threats.\\n\\nAlthough the focus of the current report is on Geneva-based organizations, this methodology will be replicated in other contexts and serve as a blueprint for future reports on cyber threats against NGOs.\\n\\nThis report is part of the CyberPeace Institute’s broader mission, offering free cybersecurity services to NGOs which includes:\\n\\n■ Mapping the threat landscape for NGOs.\\n\\n■ Delivering actionable, free cybersecurity services to NGOs (CyberPeace Builders program1).\\n\\n■ Producing threat intelligence and automatically alerting NGOs about suspicious cyber activity.\\n\\n■ Building capacity amongst donors cybersecurity risks of NGOs. to understand the\\n\\n■ Providing data-driven evidence to regulators.\\n\\nAcknowledgements and assistance\\n\\nThe CyberPeace Institute acknowledges and thanks the important contributions from the NGOs that participated in this project. These NGOs from International Geneva conduct their activities across a range of sectors, including humanitarian, health, justice, human rights, peace and education. They bring vital assistance and services to tens of millions of beneficiaries across the globe. These NGOs operate internationally across various regions, particularly Europe, Africa, the\\n\\n8\\n\\nCyberPeace Institute | 2023\\n\\nMiddle East and Asia. A number of the organizations also operate in North America, Oceania, Latin America and the Caribbean.\\n\\nThe analysis, findings and conclusions of this report have been developed by the analysts and other experts of the CyberPeace Institute. They have been shared with the NGOs who participated in the project but they have not been requested to endorse them.\\n\\nNGOs concerned by or encountering any of the issues detailed in this report can contact the Institute for advice and support through its CyberPeace Builders program. The CyberPeace Builders1 is composed of regional advisors and experts working and/or volunteering for the CyberPeace Institute, and managing a network of corporate volunteers from local and international companies developed specifically to support NGOs. This program helps NGOs by providing them with pre-incident, post-incident and support services to build their cyber resilience. NGOs can build their resilience by accessing tailored assistance, such as awareness training, dark web monitoring, phishing simulations and website vulnerability scanning.\\n\\n9\\n\\nCyberPeace Analytical Report', metadata={'id': '6_5_CyberPeace_Report.pdf_7', 'type': 'text', 'filename': '5_CyberPeace_Report.pdf', 'page_number': 7}), Document(page_content='Introduction\\n\\nIn the heart of International Geneva, a diverse ecosystem thrives, housing 38 international organizations (IOs), 432 non-governmental organizations (NGOs), and several hundred associations active at an international level, all united by a shared mission: to make the world a place of greater humanity, peace and justice. NGOs are the unsung heroes, responding in armed conflicts, natural disasters, and humanitarian crises, championing human rights, and advancing the Sustainable Development Goals (SDGs). Like many other organizations, NGOs heavily rely on technology, which is critical for projecting their activities globally in real time. Yet, in today’s digital landscape, this reality brings its own set of challenges.\\n\\nWhile fighting for the greater good, NGOs must battle against all forms of cyberattacks, ranging from espionage and ransomware to fraud and disinformation. On one side, they are targeted by various threat actors - criminal groups, state actors, terrorist groups or hacktivists - seeking to disrupt their work, compromise data, and tarnish their reputation. On the other, they do not possess the human or financial resources to protect themselves.\\n\\nIn Geneva, the CyberPeace Institute safeguards these heroes. Our cybersecurity services for NGOs include threat landscape mapping, volunteer-led consulting, alert notifications, and providing policy recommendations to donors and public/private decision-makers. All these services are free and tailored to the NGOs’ operational reality.\\n\\nWith the leadership and support of the Republic and Canton of Geneva, this report aims to provide actionable recommendations to build capacities and resilience to mitigate cyber risks. It provides insights on the organizational readiness of NGOs to prevent, respond to and recover from cyberattacks. Using data, including primary data from surveys and interviews, the Report looks at the threats NGOs face, the vulnerabilities they are exposed to, and examines their preparedness to mitigate these challenges. Its ambition is to reinforce NGOs’ resilience in a sustainable manner, and for them to become the primary actors of their cybersecurity.\\n\\nThis report builds on technical analysis conducted by our cyber analysts and a comprehensive survey with 27 Geneva-based NGOs.\\n\\n6\\n\\nCyberPeace Institute | 2023\\n\\nThe sample size of 27 NGOs allowed for a detailed examination of each participating NGO, providing an understanding of their unique contexts, challenges, and practices. This depth of analysis can yield nuanced insights that may be obscured in larger samples. These organizations have been selected because they embody the diversity of Geneva NGOs: some conduct their activities in Geneva whilst others operate across the world. Some are small and under-financed, others are well established. They operate in sectors including healthcare, justice, human rights, peace and education and humanitarian relief. Together, these NGOs bring vital aid and services to tens of millions of beneficiaries.\\n\\nIf you are an NGO looking for help with your cybersecurity, we encourage you to reach out to us. We are here to support and protect your vital work in our increasingly digital world.\\n\\nThe CyberPeace Institute is an independent and neutral non- governmental organisation (NGO) that strives to reduce the frequency, impact, and scale of cyberattacks, to hold actors accountable for the harm they cause, and to assist vulnerable communities.\\n\\nThe Institute is based in Geneva, works in close collaboration with relevant partners to reduce the harm from cyberattacks on people’s lives worldwide, and provide assistance. By analysing cyberattacks, it exposes their societal impact, the ways that international laws and norms are being violated, and advances responsible behaviour to enforce cyberpeace.', metadata={'id': '5_5_CyberPeace_Report.pdf_6', 'type': 'text', 'filename': '5_CyberPeace_Report.pdf', 'page_number': 6}), Document(page_content='Limitations\\n\\nThis report highlights the range of threats NGOs are facing in International Geneva, but does not aim to serve as a comprehensive guide for the issues discussed. Our analysis did not include questions in relation to the NGOs understanding of the legal and regulatory environment in Switzerland and/or the countries they operate in, which although of importance was not the focus. For example, data protection regulations are key considerations for NGOs managing data which must be respected, with reporting obligations in the event of data breaches.\\n\\nThe report purposefully omits detailed information regarding the NGOs that took part in this project. The analysis involved organisations disclosing sensitive information about their vulnerabilities and threat profiles. As such, this precaution is taken to protect the privacy and safety of all the organisations.\\n\\nThis report is not exhaustive and acknowledges that there are other threats, vulnerabilities and actors that come into play from those mentioned herein. There is little available analysis focused on the cyber threat and cybersecurity capacities specific to NGOs. A significant proportion of the analysis currently available is focused on threat actors and their tactics, techniques and procedures (TTPs) with very limited information on victims, targets and the societal impact of attacks. This report advocates systematic and standardized collection, analysis and sharing of information to provide better responses and facilitate international collaboration.\\n\\nThe CyberPeace Institute welcomes any feedback to develop this knowledge product. Any enquiries regarding the Project or interest in the analysis process are welcome, please visit the Institute’s website to get in contact.\\n\\n54\\n\\nCyberPeace Institute | 2023', metadata={'id': '33_5_CyberPeace_Report.pdf_54', 'type': 'text', 'filename': '5_CyberPeace_Report.pdf', 'page_number': 54}), Document(page_content='Foreword PART 1 Introduction Why this Analysis? From Data to Action PART 2 Key Findings PART 3 Recommendations Strategic Recommendations for NGOs Technical Recommendations for NGOs Recommendations for International Geneva PART 4 Cyber Threats to NGOs: Analysis Overarching Threat Landscape Types of Threat Actors Specific Threats and Vulnerabilities Actual Incidents Resilience and Incident Response Organizational Readiness: Human Resources Financial Capacity Processes Hosting Environment and Data Location Technical Analysis 5 6 6 8 10 10 12 12 12 12 14 17 17 17 18 19 21 22 22 22 24 24 26 27', metadata={'id': '1_5_CyberPeace_Report.pdf_2', 'type': 'text', 'filename': '5_CyberPeace_Report.pdf', 'page_number': 2})]\n"
     ]
    },
    {
     "data": {
      "application/vnd.jupyter.widget-view+json": {
       "model_id": "e2f79b10881d4ff99eff50923b6bec06",
       "version_major": 2,
       "version_minor": 0
      },
      "text/plain": [
       "Groundedness per statement in source:   0%|          | 0/12 [00:00<?, ?it/s]"
      ]
     },
     "metadata": {},
     "output_type": "display_data"
    },
    {
     "name": "stdout",
     "output_type": "stream",
     "text": [
      "[Document(page_content='Case Studies Case Study #1: Ransomware Attack on an NGO Case Study #2: Attack on an NGO Website Case Study #3: Responding to a Man-in-the-Middle cyberattack Appendix A: Detailed recommendations Organizational recommendations Technical Recommendations Basic Cybersecurity Measures: Enhanced Cybersecurity Measures: Project scope and participation of NGOs Limitations 35 35 35 39 43 48 48 48 50 50 51 52 52 54 55 60', metadata={'id': '3_5_CyberPeace_Report.pdf_3', 'type': 'text', 'filename': '5_CyberPeace_Report.pdf', 'page_number': 3}), Document(page_content='Strategic recommendations\\n\\n■ Train employees and users to recognize the signs of MitM attacks and practice safe browsing and email habits. Encourage reporting of any kind of suspicious activity.\\n\\n■ Implement the principle of least privilege (PoLP) to restrict user access to only the resources necessary for their roles.\\n\\n■ Assess the security practices of third-party vendors, especially those providing critical services or software that could be vulnerable to MitM attacks.\\n\\n■ Consider adopting a Zero Trust Network Access (ZTNA) approach, which assumes that no entity—whether inside or outside the network—is trusted by default.\\n\\n■ Evaluate the need for cybersecurity insurance to provide financial protection in case of a MitM attack or other security incidents.\\n\\n4. Impact\\n\\nThis MitM attack had several significant impacts on the organization:\\n\\ni. Financial Loss: Both the Foundation and the NGO incurred a financial loss due to the fraudulent payment. This was later recovered but the NGO was not expecting the recovery.\\n\\nii. Operational Disruption: The attack disrupted the NGO’s internal operations and caused confusion at the Foundation and the NGO as neither initially understood what had happened.\\n\\niii. Reputation Damage: The incident had a potentially negative impact on the NGO’s reputation, raising concerns amongst management and the board.\\n\\niv.. Awareness: Staff members felt both concern and guilt, and there was a need for increased awareness of cybersecurity threats.\\n\\n46\\n\\nCyberPeace Institute | 2023\\n\\n5. Lessons Learned\\n\\nThe cyberattack taught the organization several valuable lessons:\\n\\ni. The importance of verifying and cross-checking payment details, especially for invoices involving significant amounts.\\n\\nii. The need for enhanced staff awareness and training to recognize and respond to phishing attacks.\\n\\niii. The implementation of rules and processes for handling financial transactions securely.\\n\\niv. The importance of taking swift action to secure email accounts and applying Multi-factor Authentication (MFA) to enhance email security.\\n\\n47\\n\\nCyberPeace Analytical Report', metadata={'id': '28_5_CyberPeace_Report.pdf_46', 'type': 'text', 'filename': '5_CyberPeace_Report.pdf', 'page_number': 46}), Document(page_content='Actual Incidents\\n\\nIn general, information about actual cyber incidents is rarely made public, thus the report survey asked NGOs if they had been the victim of a cyberattack. The findings in this regard are that:\\n\\n41%\\n\\nof NGOs report that they have been the victim of a cyberattack within the past three years.\\n\\nThe most prolific attacks include social engineering (e.g. phishing), ransomware, Denial of Service Attacks (DDoS) and other malware. Other reported attacks included CEO fraud, website impersonation, spyware, Man-in-the-Middle (MITM) and brute-force attacks.\\n\\nOf those that had experienced cyber incidents, 100% reported that these attacks were not isolated events, with some experiencing cybersecurity incidents daily while others face them on a monthly or annual basis.\\n\\nThe attacks led to a range of adverse impacts on the NGOs, including financial losses, compromised financial data, disruptions to external engagements, disruptions to staff activities and to staff time, and the necessity to revise procedures.\\n\\nIn order to gain a better understanding of the actual impact of cyberattacks, three case studies are presented later in this report. The case studies are based on interviews with three of the surveyed NGOs and look into the specific circumstances of the cyberattacks they experienced. These case studies provide valuable insights into the threat landscape faced by NGOs and the need for effective responses.\\n\\n21\\n\\nCyberPeace Analytical Report\\n\\nResilience and Incident Response\\n\\nFindings show that 70% of NGOs don’t think, or aren’t sure whether, they have an adequate level of resilience to recover from a disruptive cyberattack. When asked about their capacity to monitor cyber risks and respond to incidents:\\n\\n• 70% of NGOs do not have any incident response, analysis or investigative in-house capabilities in the case of a cyberattack.\\n\\n• 63% of NGOs do not monitor the clear or dark web for leaked credentials or compromised accounts/infrastructure.\\n\\n• 37% of NGOs do not believe they have the capability, or are uncertain about their capacity, to detect potential security incidents or suspicious activity.\\n\\n• 15% of NGOs indicated that they never conduct security assessments or audits of their cybersecurity infrastructure.\\n\\n• 33% of NGOs indicated that they have acquired, or plan to acquire cyber insurance.', metadata={'id': '13_5_CyberPeace_Report.pdf_21', 'type': 'text', 'filename': '5_CyberPeace_Report.pdf', 'page_number': 21}), Document(page_content=\"Part 5 Case Studies\\n\\nCase Study #1: Ransomware attack on an NGO\\n\\n1. Overview\\n\\nAn NGO based in Geneva that provides services to other local and international associations faced a ransomware attack in the winter of 2020, which resulted in over a week's worth of operational data being lost. This case study delves into the details of what happened during the attack, the organization's response, the impact on its operations, lessons learned, and recommendations for future cybersecurity preparedness.\\n\\n2. What happened?\\n\\nIn January 2020, a staff member was checking their emails and accidentally opened a PDF file containing malware, leading to the complete encryption of their data, by a threat actor. The perpetrators used a generic email with the PDF in attachment to launch the attack. The NGO does not believe it was specifically targeted by the attackers. The infection initially started on one workstation and subsequently spread to the organization’s server. The server stored crucial data, including booking information, financial and accounting data, and personal data of staff members. The attackers demanded a considerable sum of money, in bitcoin, for the decryption of the data. The attack involved a ransomware referred to as REvil (Ransomware Evil). This ransomware was first discovered in April 2019 and has been responsible for numerous high-profile cyberattacks. REvil encrypts files on the victim's computer or network, making them inaccessible, and REVIL ransomware operators demand a ransom payment from their victims in exchange for the decryption key.\\n\\nMalware is a malicious software. These are pieces of code designed to damage, destroy, or subvert computer systems. Malware includes viruses that can replicate and stop systems from working.\\n\\n35\\n\\nCyberPeace Analytical Report\\n\\nRansomware is a type of malware designed to extort money by encrypting/blocking access to files or the computer system until a ransom is paid.\\n\\nThe NGO had never previously dealt with a cybersecurity incident like this. At a personal level, the employee who opened the link was both alarmed by what had happened and also angry about being deceived. As described by the Director of the NGO, “My colleagues got scared when confronted with this. The colleague who opened the email containing the malware started to feel guilty. We all did our best to reassure them. But there was this feeling of vulnerability, of being exposed.” All colleagues and management were supportive, promoting a strong “no blame” culture.\\n\\nWhat is a ransomware attack?\\n\\nA ransomware attack is a type of malicious cyberattack in which a perpetrator encrypts a victim's data or files, rendering them inaccessible, and then demands a ransom payment from the victim in exchange for a decryption key or a promise to restore access to the data.\\n\\n■ Ransomware typically gains access to a victim's computer or network through various means, such as malicious email attachments, infected software downloads, or exploited vulnerabilities in software or systems.\\n\\n■ Once the ransomware infiltrates the victim's system, it begins encrypting files, making them unreadable without a decryption key. This encryption process can affect a wide range of files, including documents, images, databases, and more.\\n\\n■ After encrypting the victim's files, the attacker displays a ransom note on the victim's screen or leaves a text file with instructions on how to pay the ransom. The note typically includes the ransom amount, the cryptocurrency (e.g. Bitcoin), wallet address for payment, and a deadline for payment.\", metadata={'id': '21_5_CyberPeace_Report.pdf_35', 'type': 'text', 'filename': '5_CyberPeace_Report.pdf', 'page_number': 35}), Document(page_content=\"5. Lessons Learned\\n\\nSome of the key lessons learned by this NGO after this incident include:\\n\\ni. Training and awareness: Regular cybersecurity training and awareness programs for employees are essential to protect against future attacks.\\n\\nii. Data backup and recovery: Ensuring proper data backup and recovery procedures are in place are crucial to safeguard against data loss during an attack.\\n\\niii. Cybersecurity insurance: Investing in cybersecurity insurance can help mitigate financial losses in the event of a cyberattack.\\n\\n38\\n\\nes\\n\\nCyberPeace Institute | 2023\\n\\nCase Study #2: Attack on an NGO website\\n\\n1. Overview\\n\\nThis case study is about a small NGO based in Geneva whose mission is to provide professional and independent services to assist humanitarian and development organizations in their work. The organization’s website serves as a central platform for communication with partners and clients.\\n\\nIn early 2020, this NGO experienced a cyberattack resulting in the compromise of their website, causing significant disruption to their operations. This case study explores the details of the attack, the organization's response, the impact on their operations, lessons learned, and recommendations.\\n\\n2. What happened?\\n\\nIn early 2020, the organization fell victim to a website attack. When trying to connect to the website, they discovered that they were automatically redirected to a Chinese language marketplace website. The exact timing of the attack remains uncertain, as it was discovered during a period of reduced monitoring.\\n\\nUnfortunately, the organization did not have a backup of their website, requiring a full reconstruction of the site which took nine months to complete. While the organization does not believe that they were deliberately targeted by the cyberattack, it appears the attackers were aiming to generate traffic to the marketplace website. The identity of the threat actor remains unknown, and there is no attribution or evidence linking any individual or group to the attack.\\n\\nWhat is a website attack?\\n\\nA website attack refers to a malicious activity or series of actions aimed at compromising the security, functionality, or availability of a website or web application. These attacks target vulnerabilities in websites to gain unauthorized access, steal data, deface web pages, disrupt services, or carry out other malicious activities. Website attacks are typically orchestrated by cybercriminals, hackers, or other threat actors.\\n\\n39\\n\\nCyberPeace Analytical Report\\n\\nThere are different types of website attacks. Some of the most common ones include:\\n\\n■ SQL Injection (SQLi): In an SQL Injection attack, an attacker injects malicious SQL queries into input fields on a website.\\n\\n■ Cross-Site Scripting (XSS): XSS attacks involve injecting malicious scripts into web pages viewed by other users.\\n\\n■ Cross-Site Request Forgery (CSRF): In CSRF attacks, attackers trick users into unknowingly executing actions on a website without their consent.\\n\\n■ Distributed Denial of Service (DDoS): DDoS attacks flood a website's server with a massive volume of traffic, overwhelming its resources and causing it to cease functioning normally or to become unavailable to legitimate users. It is said to be distributed when the source of the attack is composed of a multitude of devices or systems.\\n\\n■ Website Defacement: The illicit or unauthorized modification of the appearance and content of a target’s website or the act of redirecting traffic to other web pages.\", metadata={'id': '23_5_CyberPeace_Report.pdf_38', 'type': 'text', 'filename': '5_CyberPeace_Report.pdf', 'page_number': 38})]\n"
     ]
    },
    {
     "data": {
      "application/vnd.jupyter.widget-view+json": {
       "model_id": "704d0031453b49fe89019f122254475d",
       "version_major": 2,
       "version_minor": 0
      },
      "text/plain": [
       "Groundedness per statement in source:   0%|          | 0/18 [00:00<?, ?it/s]"
      ]
     },
     "metadata": {},
     "output_type": "display_data"
    }
   ],
   "source": [
    "for query in queries:\n",
    "    tru_rag_retrieval_pipeline(query)"
   ]
  },
  {
   "cell_type": "code",
   "execution_count": 24,
   "metadata": {},
   "outputs": [
    {
     "name": "stdout",
     "output_type": "stream",
     "text": [
      "Starting dashboard ...\n"
     ]
    },
    {
     "data": {
      "application/vnd.jupyter.widget-view+json": {
       "model_id": "f3af8d8eb08a4b44a4a4447826c9e629",
       "version_major": 2,
       "version_minor": 0
      },
      "text/plain": [
       "Accordion(children=(VBox(children=(VBox(children=(Label(value='STDOUT'), Output())), VBox(children=(Label(valu…"
      ]
     },
     "metadata": {},
     "output_type": "display_data"
    },
    {
     "name": "stdout",
     "output_type": "stream",
     "text": [
      "Dashboard started at http://192.168.0.105:8501 .\n"
     ]
    },
    {
     "data": {
      "text/plain": [
       "<Popen: returncode: None args: ['streamlit', 'run', '--server.headless=True'...>"
      ]
     },
     "execution_count": 24,
     "metadata": {},
     "output_type": "execute_result"
    }
   ],
   "source": [
    "tru.run_dashboard()"
   ]
  }
 ],
 "metadata": {
  "kernelspec": {
   "display_name": "base",
   "language": "python",
   "name": "python3"
  },
  "language_info": {
   "codemirror_mode": {
    "name": "ipython",
    "version": 3
   },
   "file_extension": ".py",
   "mimetype": "text/x-python",
   "name": "python",
   "nbconvert_exporter": "python",
   "pygments_lexer": "ipython3",
   "version": "3.10.12"
  }
 },
 "nbformat": 4,
 "nbformat_minor": 2
}
